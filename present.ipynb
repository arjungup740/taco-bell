{
 "cells": [
  {
   "cell_type": "code",
   "execution_count": 215,
   "metadata": {},
   "outputs": [],
   "source": [
    "import pandas as pd\n",
    "import pickle as pkl\n",
    "import matplotlib.pyplot as plt\n",
    "import plotly.express as px\n",
    "import seaborn as sns\n",
    "import scipy.stats as stats\n",
    "import numpy as np\n",
    "from adjustText import adjust_text\n",
    "pd.options.display.float_format = '{:.2f}'.format"
   ]
  },
  {
   "cell_type": "markdown",
   "metadata": {},
   "source": [
    "# Data Loads"
   ]
  },
  {
   "cell_type": "code",
   "execution_count": 216,
   "metadata": {},
   "outputs": [],
   "source": [
    "## state COLI\n",
    "state_abbreviations = {\n",
    "    'Alabama': 'al',\n",
    "    'Alaska': 'ak',\n",
    "    'Arizona': 'az',\n",
    "    'Arkansas': 'ar',\n",
    "    'California': 'ca',\n",
    "    'Colorado': 'co',\n",
    "    'Connecticut': 'ct',\n",
    "    'Delaware': 'de',\n",
    "    'Florida': 'fl',\n",
    "    'Georgia': 'ga',\n",
    "    'Hawaii': 'hi',\n",
    "    'Idaho': 'id',\n",
    "    'Illinois': 'il',\n",
    "    'Indiana': 'in',\n",
    "    'Iowa': 'ia',\n",
    "    'Kansas': 'ks',\n",
    "    'Kentucky': 'ky',\n",
    "    'Louisiana': 'la',\n",
    "    'Maine': 'me',\n",
    "    'Maryland': 'md',\n",
    "    'Massachusetts': 'ma',\n",
    "    'Michigan': 'mi',\n",
    "    'Minnesota': 'mn',\n",
    "    'Mississippi': 'ms',\n",
    "    'Missouri': 'mo',\n",
    "    'Montana': 'mt',\n",
    "    'Nebraska': 'ne',\n",
    "    'Nevada': 'nv',\n",
    "    'New Hampshire': 'nh',\n",
    "    'New Jersey': 'nj',\n",
    "    'New Mexico': 'nm',\n",
    "    'New York': 'ny',\n",
    "    'North Carolina': 'nc',\n",
    "    'North Dakota': 'nd',\n",
    "    'Ohio': 'oh',\n",
    "    'Oklahoma': 'ok',\n",
    "    'Oregon': 'or',\n",
    "    'Pennsylvania': 'pa',\n",
    "    'Rhode Island': 'ri',\n",
    "    'South Carolina': 'sc',\n",
    "    'South Dakota': 'sd',\n",
    "    'Tennessee': 'tn',\n",
    "    'Texas': 'tx',\n",
    "    'Utah': 'ut',\n",
    "    'Vermont': 'vt',\n",
    "    'Virginia': 'va',\n",
    "    'Washington': 'wa',\n",
    "    'West Virginia': 'wv',\n",
    "    'Wisconsin': 'wi',\n",
    "    'Wyoming': 'wy',\n",
    "    'District of Columbia': 'dc',\n",
    "    'Puerto Rico': 'pr',\n",
    "    'Guam': 'gu',\n",
    "    'American Samoa': 'as',\n",
    "    'U.S. Virgin Islands': 'vi',\n",
    "    'Northern Mariana Islands': 'mp'\n",
    "}\n",
    "\n",
    "# Replace state names with their abbreviations\n",
    "\n",
    "state_coli = pd.read_csv('data/demographic_data/world_population_review_coli.csv')\n",
    "\n",
    "state_coli['abbrev'] = state_coli['State'].replace(state_abbreviations)\n",
    "\n"
   ]
  },
  {
   "cell_type": "code",
   "execution_count": 217,
   "metadata": {},
   "outputs": [],
   "source": [
    "## city COLI\n",
    "\n",
    "city_coli = pd.read_csv('data/demographic_data/advisorsmith_cost_of_living_index.csv')\n",
    "city_coli.columns = [x.lower() for x in city_coli.columns]\n",
    "city_coli['city'] = city_coli['city'].str.lower()\n",
    "city_coli['state'] = city_coli['state'].str.lower()\n",
    "# city_coli"
   ]
  },
  {
   "cell_type": "code",
   "execution_count": 218,
   "metadata": {},
   "outputs": [
    {
     "data": {
      "text/plain": [
       "1538840"
      ]
     },
     "execution_count": 218,
     "metadata": {},
     "output_type": "execute_result"
    }
   ],
   "source": [
    "# with open('data/spring_2023/full_df.pkl', 'rb') as file:\n",
    "with open('data/summer_2024_august/full_df.pkl', 'rb') as file:\n",
    "    full_df = pkl.load(file)\n",
    "\n",
    "len(full_df)"
   ]
  },
  {
   "cell_type": "code",
   "execution_count": 220,
   "metadata": {},
   "outputs": [],
   "source": [
    "\n",
    "full_df = full_df.drop_duplicates(subset = ['item_name', 'store_id']) # need this because the same item might be listed under multiple categories\n",
    "len(full_df)\n",
    "\n",
    "full_df['state'], full_df['city'] = zip(*full_df['location_url'].str.split('/').str[3:5])"
   ]
  },
  {
   "cell_type": "markdown",
   "metadata": {},
   "source": [
    "# Aggregations"
   ]
  },
  {
   "cell_type": "code",
   "execution_count": 229,
   "metadata": {},
   "outputs": [],
   "source": [
    "\n",
    "core_items = [\n",
    "              'Supreme Taco Party Pack', \n",
    "            #   'Chicken Quesadilla', \n",
    "            #   'Cinnabon Delights® 12 Pack', \n",
    "            #   'Crunchwrap Supreme®', \n",
    "            #   'Beefy 5 Layer Burrito', \n",
    "            #   'Nacho Cheese Doritos Locos Taco', \n",
    "            #   '3 Doritos Locos Tacos Combo'\n",
    "              ]\n",
    "\n",
    "working = full_df[full_df['item_name'].isin(core_items)]\n",
    "working = working[~working['state'].isin(['vt', 'me'])] # not enough data"
   ]
  },
  {
   "cell_type": "code",
   "execution_count": 227,
   "metadata": {},
   "outputs": [
    {
     "data": {
      "text/plain": [
       "46"
      ]
     },
     "execution_count": 227,
     "metadata": {},
     "output_type": "execute_result"
    }
   ],
   "source": [
    "# working.head()\n",
    "# city_distro[city_distro['num_stores'] != 1]\n",
    "# working[working['city'] == 'fort-bragg']\n",
    "len(working)\n",
    "len(working['state'].unique())"
   ]
  },
  {
   "cell_type": "code",
   "execution_count": 230,
   "metadata": {},
   "outputs": [],
   "source": [
    "agg_funcs = {\n",
    "    'mean': 'mean',\n",
    "    'median': 'median',\n",
    "    'num_stores': 'size',\n",
    "    'nunique_prices': 'nunique',\n",
    "    'max': 'max',\n",
    "    'min': 'min',\n",
    "    'sd': 'std'\n",
    "}\n",
    "\n",
    "########## in aggregate\n",
    "\n",
    "# metric = 'median'\n",
    "metric = 'mean'\n",
    "\n",
    "state_distro = working.groupby(['state', 'item_name'])['value'].agg(**agg_funcs).sort_values(by = ['item_name', metric], ascending = False).reset_index()\n",
    "\n",
    "city_distro = working.groupby(['city', 'state', 'item_name'])['value'].agg(**agg_funcs).sort_values(by = ['item_name', metric], ascending = False).reset_index()\n",
    "\n",
    "item_distro = working.groupby('item_name')['value'].agg(**agg_funcs).sort_values(by = ['item_name', metric], ascending = False).reset_index()\n"
   ]
  },
  {
   "cell_type": "markdown",
   "metadata": {},
   "source": [
    "# Cost of Living Correlations"
   ]
  },
  {
   "cell_type": "code",
   "execution_count": 258,
   "metadata": {},
   "outputs": [],
   "source": [
    "def plot_regression(merged_df, x_var, y_var, hue_var='state', title_prefix='', custom_title = None, label_top_n=10):\n",
    "    \"\"\"\n",
    "    Plots a linear regression scatter plot with a regression line, R-squared, and RMSE.\n",
    "    \n",
    "    Parameters:\n",
    "    merged_df (pd.DataFrame): The dataframe containing the data to plot.\n",
    "    x_var (str): The name of the column to use as the independent variable (X-axis).\n",
    "    y_var (str): The name of the column to use as the dependent variable (Y-axis).\n",
    "    hue_var (str): The name of the column to use for coloring the points (default is 'state').\n",
    "    title_prefix (str): A string to prefix the title of the plot with.\n",
    "    label_top_n (int): The number of top points to label (default is 10).\n",
    "    \n",
    "    Returns:\n",
    "    None\n",
    "    \"\"\"\n",
    "    # Perform the regression\n",
    "    slope, intercept, r_value, p_value, std_err = stats.linregress(merged_df[x_var], merged_df[y_var])\n",
    "    \n",
    "    # Calculate predicted values\n",
    "    y_pred = intercept + slope * merged_df[x_var]\n",
    "    \n",
    "    # Calculate R-squared and RMSE\n",
    "    r_squared = r_value**2\n",
    "    rmse = np.sqrt(np.mean((y_pred - merged_df[y_var])**2))\n",
    "    \n",
    "    # Create the scatter plot\n",
    "    plt.figure(figsize=(10, 6))\n",
    "    sns.scatterplot(x=merged_df[x_var], y=merged_df[y_var], hue=merged_df[hue_var], palette=\"viridis\", s=100, legend=False)\n",
    "    \n",
    "    # Plot the regression line\n",
    "    plt.plot(merged_df[x_var], y_pred, color='red', label=f'Regression Line\\ny = ${intercept:.2f} + ${slope:.2f}x')\n",
    "    \n",
    "    # Annotate only a subset of points to avoid clutter\n",
    "    if label_top_n > 0:\n",
    "        top_n_df = merged_df.nlargest(label_top_n, y_var)\n",
    "        texts = []\n",
    "        for i in range(len(top_n_df)):\n",
    "            texts.append(plt.text(top_n_df[x_var].iloc[i], top_n_df[y_var].iloc[i], top_n_df[hue_var].iloc[i], fontsize=9))\n",
    "        adjust_text(texts, arrowprops=dict(arrowstyle='-', color='black'))\n",
    "    \n",
    "    # Add R-squared and RMSE to the plot\n",
    "    plt.text(0.79, 0.15, f'correlation = {r_value:.2f}\\nRMSE = ${rmse:.2f}', transform=plt.gca().transAxes, \n",
    "             fontsize=12, verticalalignment='top', bbox=dict(boxstyle=\"round,pad=0.3\", edgecolor=\"black\", facecolor=\"white\"))\n",
    "    \n",
    "    # Add labels and title\n",
    "    # plt.xlabel('x_var')\n",
    "    plt.xlabel('Cost of Living Index')\n",
    "    # plt.ylabel(f'{y_var} ($)')\n",
    "    plt.ylabel('mean ($)')\n",
    "    # Use custom title if provided, otherwise construct the title\n",
    "    if custom_title:\n",
    "        plt.title(custom_title)\n",
    "    else:\n",
    "        plt.title(f'{title_prefix}{y_var} against {x_var}')\n",
    "    plt.legend()\n",
    "    \n",
    "    # Show the plot\n",
    "    plt.show()"
   ]
  },
  {
   "cell_type": "code",
   "execution_count": 265,
   "metadata": {},
   "outputs": [
    {
     "data": {
      "image/png": "[encoded data removed]",
      "text/plain": [
       "<Figure size 1000x600 with 1 Axes>"
      ]
     },
     "metadata": {},
     "output_type": "display_data"
    }
   ],
   "source": [
    "merged_city = city_coli.merge(city_distro, how = 'inner', on = ['city', 'state'])\n",
    "# plot_regression(merged_city, 'cost of living index', 'mean', hue_var = 'city', title_prefix='Taco Bell Prices: ', custom_title = 'Mean Supreme Taco Party Pack Prices Against Cost of Living Index', label_top_n=30)\n",
    "plot_regression(merged_city[merged_city['cost of living index'] < 121], 'cost of living index', 'mean', hue_var = 'city', title_prefix='Taco Bell Prices removing 121: ', custom_title = 'Mean Prices Removing Cities with COLI > 125', label_top_n=30)\n",
    "# plot_regression(merged_city[merged_city['cost of living index'] >= 121], 'cost of living index', 'mean', hue_var = 'city', title_prefix='Taco Bell Prices removing anything above COLI =121: ', label_top_n=0)"
   ]
  },
  {
   "cell_type": "code",
   "execution_count": 235,
   "metadata": {},
   "outputs": [
    {
     "data": {
      "image/png": "[encoded data removed]",
      "text/plain": [
       "<Figure size 1000x600 with 1 Axes>"
      ]
     },
     "metadata": {},
     "output_type": "display_data"
    }
   ],
   "source": [
    "merged_state = state_distro.merge(state_coli, how = 'left', left_on = 'state', right_on = 'abbrev')\n",
    "plot_regression(merged_state, 'Cost of Living Index', 'mean', title_prefix='Taco Bell Prices: ', custom_title = 'Mean Supreme Taco Party Pack Prices Against Cost of Living Index' , label_top_n=50)\n",
    "# plot_regression(merged_state[merged_state['state'] !='hi'], 'Cost of Living Index', 'mean', title_prefix='Taco Bell Prices: ', label_top_n=50)\n",
    "# plot_regression(merged_state[merged_state['state'] !='vt'], 'Cost of Living Index', 'mean', title_prefix='Taco Bell Prices: ', label_top_n=50)"
   ]
  },
  {
   "cell_type": "markdown",
   "metadata": {},
   "source": [
    "# Overpaying Analysis"
   ]
  },
  {
   "cell_type": "code",
   "execution_count": 266,
   "metadata": {},
   "outputs": [
    {
     "data": {
      "text/plain": [
       "count   352.00\n",
       "mean      0.00\n",
       "std       0.13\n",
       "min      -0.53\n",
       "25%      -0.07\n",
       "50%      -0.00\n",
       "75%       0.09\n",
       "max       0.31\n",
       "Name: overpaying_delta, dtype: float64"
      ]
     },
     "execution_count": 266,
     "metadata": {},
     "output_type": "execute_result"
    }
   ],
   "source": [
    "merged_city['mean_coli'] = merged_city['cost of living index'].mean()\n",
    "merged_city['pct_deviation_coli'] = (merged_city['cost of living index'] / merged_city['cost of living index'].mean()) - 1\n",
    "merged_city['pct_deviation_price'] = (merged_city['mean'] / merged_city['mean'].mean()) - 1\n",
    "\n",
    "# plot_regression(merged_city, 'pct_deviation_coli', 'pct_deviation_price', title_prefix='Taco Bell Prices: ', label_top_n=50)\n",
    "\n",
    "merged_city['overpaying_delta'] = merged_city['pct_deviation_price'] - merged_city['pct_deviation_coli']\n",
    "merged_city['overpaying_delta'].describe()"
   ]
  },
  {
   "cell_type": "code",
   "execution_count": 267,
   "metadata": {},
   "outputs": [
    {
     "data": {
      "text/plain": [
       "count   45.00\n",
       "mean    -0.00\n",
       "std      0.14\n",
       "min     -0.58\n",
       "25%     -0.01\n",
       "50%      0.03\n",
       "75%      0.07\n",
       "max      0.22\n",
       "Name: overpaying_delta, dtype: float64"
      ]
     },
     "execution_count": 267,
     "metadata": {},
     "output_type": "execute_result"
    }
   ],
   "source": [
    "merged_state['mean_coli'] = merged_state['Cost of Living Index'].mean()\n",
    "merged_state['pct_deviation_coli'] = (merged_state['Cost of Living Index'] / merged_state['Cost of Living Index'].mean()) - 1\n",
    "merged_state['pct_deviation_price'] = (merged_state['mean'] / merged_state['mean'].mean()) - 1\n",
    "\n",
    "# plot_regression(merged_state, 'pct_deviation_coli', 'pct_deviation_price', title_prefix='Taco Bell Prices: ', label_top_n=50)\n",
    "merged_state['overpaying_delta'] = merged_state['pct_deviation_price'] - merged_state['pct_deviation_coli']\n",
    "merged_state['overpaying_delta'].describe()"
   ]
  },
  {
   "cell_type": "code",
   "execution_count": 324,
   "metadata": {},
   "outputs": [],
   "source": [
    "import numpy as np\n",
    "import seaborn as sns\n",
    "import matplotlib.pyplot as plt\n",
    "\n",
    "def create_bar_chart(df, x_var, y_var, title=\"Bar Chart\", xlabel=None, ylabel=None, bar_labels = True):\n",
    "    # plt.clf()\n",
    "    \"\"\"\n",
    "    Creates a bar chart from the provided DataFrame with labels above/below each bar.\n",
    "    \n",
    "    Parameters:\n",
    "    df (pd.DataFrame): The dataframe containing the data to plot.\n",
    "    x_var (str): The name of the column to use as the x-axis variable.\n",
    "    y_var (str): The name of the column to use as the y-axis variable.\n",
    "    title (str): The title of the plot.\n",
    "    xlabel (str): The label for the x-axis. If None, x_var is used.\n",
    "    ylabel (str): The label for the y-axis. If None, y_var is used.\n",
    "    \n",
    "    Returns:\n",
    "    None\n",
    "    \"\"\"\n",
    "    # Sorting the DataFrame by the absolute value of y_var\n",
    "    df['abs'] = np.abs(df[y_var])\n",
    "    df = df.sort_values(by='abs', ascending=False)\n",
    "    \n",
    "    plt.figure(figsize=(10, 6))\n",
    "    ax = sns.barplot(data=df, x=x_var, y=y_var, \n",
    "                    #  palette='viridis'\n",
    "                     palette=['#36399a', '#ef1897', '#fee012', '#a77bca']\n",
    "                     )\n",
    "    \n",
    "    # Adding labels to the bars\n",
    "    if bar_labels:\n",
    "        for p, state_label in zip(ax.patches, df[x_var]):\n",
    "            height = p.get_height()\n",
    "            if height > 0:\n",
    "                ax.text(p.get_x() + p.get_width() / 2., height + 0.01, state_label, ha=\"center\")\n",
    "            else:\n",
    "                ax.text(p.get_x() + p.get_width() / 2., height - 0.04, state_label, ha=\"center\")\n",
    "        \n",
    "    ax.set_xticks([])\n",
    "    ax.set_xlabel('')\n",
    "    plt.title(title)\n",
    "    # plt.xlabel(xlabel if xlabel else x_var)\n",
    "    plt.ylabel(ylabel if ylabel else y_var)\n",
    "    \n",
    "    plt.xticks(rotation=45, ha='right')\n",
    "    plt.tight_layout()\n",
    "    plt.show()\n",
    "\n",
    "# Example usage:\n",
    "# Assuming you have a DataFrame named `df` with columns \"overpaying_delta\" and \"state\"\n",
    "# create_bar_chart(df, x_var=\"state\", y_var=\"overpaying_delta\", title=\"Overpaying Delta by State\", xlabel=\"State\", ylabel=\"Overpaying Delta\")\n"
   ]
  },
  {
   "cell_type": "code",
   "execution_count": 325,
   "metadata": {},
   "outputs": [],
   "source": [
    "# merged_state.sort_values(by = 'abs', ascending = False)"
   ]
  },
  {
   "cell_type": "code",
   "execution_count": 314,
   "metadata": {},
   "outputs": [
    {
     "name": "stderr",
     "output_type": "stream",
     "text": [
      "/var/folders/r8/1njvdjqs71vfshzknvlgyy_h0000gn/T/ipykernel_4736/1028662803.py:26: FutureWarning:\n",
      "\n",
      "\n",
      "\n",
      "Passing `palette` without assigning `hue` is deprecated and will be removed in v0.14.0. Assign the `x` variable to `hue` and set `legend=False` for the same effect.\n",
      "\n",
      "\n"
     ]
    },
    {
     "data": {
      "image/png": "[encoded data removed]",
      "text/plain": [
       "<Figure size 1000x600 with 1 Axes>"
      ]
     },
     "metadata": {},
     "output_type": "display_data"
    }
   ],
   "source": [
    "create_bar_chart(merged_state, x_var=\"state\", y_var=\"overpaying_delta\", title=\"Overpaying Delta by State\", xlabel=\"State\", ylabel=\"Overpaying Delta\")"
   ]
  },
  {
   "cell_type": "code",
   "execution_count": 326,
   "metadata": {},
   "outputs": [
    {
     "name": "stderr",
     "output_type": "stream",
     "text": [
      "/var/folders/r8/1njvdjqs71vfshzknvlgyy_h0000gn/T/ipykernel_4736/544821214.py:26: FutureWarning:\n",
      "\n",
      "\n",
      "\n",
      "Passing `palette` without assigning `hue` is deprecated and will be removed in v0.14.0. Assign the `x` variable to `hue` and set `legend=False` for the same effect.\n",
      "\n",
      "\n",
      "/var/folders/r8/1njvdjqs71vfshzknvlgyy_h0000gn/T/ipykernel_4736/544821214.py:26: UserWarning:\n",
      "\n",
      "\n",
      "The palette list has fewer values (4) than needed (320) and will cycle, which may produce an uninterpretable plot.\n",
      "\n"
     ]
    },
    {
     "data": {
      "image/png": "[encoded data removed]",
      "text/plain": [
       "<Figure size 1000x600 with 1 Axes>"
      ]
     },
     "metadata": {},
     "output_type": "display_data"
    }
   ],
   "source": [
    "create_bar_chart(merged_city, x_var=\"city\", y_var=\"overpaying_delta\", title=\"Overpaying Delta by State\", xlabel=\"State\", ylabel=\"Overpaying Delta\", bar_labels=False)"
   ]
  },
  {
   "cell_type": "code",
   "execution_count": 323,
   "metadata": {},
   "outputs": [
    {
     "data": {
      "application/vnd.plotly.v1+json": {
       "config": {
        "plotlyServerURL": "https://plot.ly"
       },
       "data": [
        {
         "alignmentgroup": "True",
         "bingroup": "x",
         "hovertemplate": "overpaying_delta=%{x}<br>count=%{y}<extra></extra>",
         "legendgroup": "",
         "marker": {
          "color": "#636efa",
          "line": {
           "color": "black",
           "width": 1.5
          },
          "pattern": {
           "shape": ""
          }
         },
         "name": "",
         "nbinsx": 20,
         "offsetgroup": "",
         "orientation": "v",
         "showlegend": false,
         "type": "histogram",
         "x": [
          -0.5795384993986328,
          -0.06859664850912894,
          0.01426009147831353,
          0.017424265254579296,
          -0.1957791408323004,
          0.07964984502518435,
          -0.12068055140560441,
          0.07991510920515354,
          0.11932724727162702,
          0.0688671114727506,
          0.21828795720302097,
          -0.0671275835586207,
          0.11601742558701733,
          0.1371085282487403,
          -0.0015833449202027339,
          0.1439693007930517,
          0.035861689081674974,
          0.02576069207527565,
          0.03267353244567828,
          -0.14152218751529455,
          0.01500720335430028,
          -0.4293913583501512,
          -0.10779504588438915,
          0.13758160523436502,
          0.06614998976442388,
          -0.1380912523456943,
          0.04051433487018308,
          0.09533086611667008,
          0.0662677912434333,
          -0.09828692335366795,
          -0.07894313863075741,
          0.056880335093178025,
          0.023904155606677358,
          0.06298709835451421,
          0.07334405337340544,
          0.027475741191335112,
          0.020868274264854603,
          0.028608711599563907,
          0.04830472934914565,
          0.06420023523785168,
          0.04272437329949441,
          0.05641215130877886,
          0.0006547793455244921,
          -0.009410676905165172,
          0.020407127859835006
         ],
         "xaxis": "x",
         "yaxis": "y"
        }
       ],
       "layout": {
        "barmode": "relative",
        "legend": {
         "tracegroupgap": 0
        },
        "template": {
         "data": {
          "bar": [
           {
            "error_x": {
             "color": "#2a3f5f"
            },
            "error_y": {
             "color": "#2a3f5f"
            },
            "marker": {
             "line": {
              "color": "#E5ECF6",
              "width": 0.5
             },
             "pattern": {
              "fillmode": "overlay",
              "size": 10,
              "solidity": 0.2
             }
            },
            "type": "bar"
           }
          ],
          "barpolar": [
           {
            "marker": {
             "line": {
              "color": "#E5ECF6",
              "width": 0.5
             },
             "pattern": {
              "fillmode": "overlay",
              "size": 10,
              "solidity": 0.2
             }
            },
            "type": "barpolar"
           }
          ],
          "carpet": [
           {
            "aaxis": {
             "endlinecolor": "#2a3f5f",
             "gridcolor": "white",
             "linecolor": "white",
             "minorgridcolor": "white",
             "startlinecolor": "#2a3f5f"
            },
            "baxis": {
             "endlinecolor": "#2a3f5f",
             "gridcolor": "white",
             "linecolor": "white",
             "minorgridcolor": "white",
             "startlinecolor": "#2a3f5f"
            },
            "type": "carpet"
           }
          ],
          "choropleth": [
           {
            "colorbar": {
             "outlinewidth": 0,
             "ticks": ""
            },
            "type": "choropleth"
           }
          ],
          "contour": [
           {
            "colorbar": {
             "outlinewidth": 0,
             "ticks": ""
            },
            "colorscale": [
             [
              0,
              "#0d0887"
             ],
             [
              0.1111111111111111,
              "#46039f"
             ],
             [
              0.2222222222222222,
              "#7201a8"
             ],
             [
              0.3333333333333333,
              "#9c179e"
             ],
             [
              0.4444444444444444,
              "#bd3786"
             ],
             [
              0.5555555555555556,
              "#d8576b"
             ],
             [
              0.6666666666666666,
              "#ed7953"
             ],
             [
              0.7777777777777778,
              "#fb9f3a"
             ],
             [
              0.8888888888888888,
              "#fdca26"
             ],
             [
              1,
              "#f0f921"
             ]
            ],
            "type": "contour"
           }
          ],
          "contourcarpet": [
           {
            "colorbar": {
             "outlinewidth": 0,
             "ticks": ""
            },
            "type": "contourcarpet"
           }
          ],
          "heatmap": [
           {
            "colorbar": {
             "outlinewidth": 0,
             "ticks": ""
            },
            "colorscale": [
             [
              0,
              "#0d0887"
             ],
             [
              0.1111111111111111,
              "#46039f"
             ],
             [
              0.2222222222222222,
              "#7201a8"
             ],
             [
              0.3333333333333333,
              "#9c179e"
             ],
             [
              0.4444444444444444,
              "#bd3786"
             ],
             [
              0.5555555555555556,
              "#d8576b"
             ],
             [
              0.6666666666666666,
              "#ed7953"
             ],
             [
              0.7777777777777778,
              "#fb9f3a"
             ],
             [
              0.8888888888888888,
              "#fdca26"
             ],
             [
              1,
              "#f0f921"
             ]
            ],
            "type": "heatmap"
           }
          ],
          "heatmapgl": [
           {
            "colorbar": {
             "outlinewidth": 0,
             "ticks": ""
            },
            "colorscale": [
             [
              0,
              "#0d0887"
             ],
             [
              0.1111111111111111,
              "#46039f"
             ],
             [
              0.2222222222222222,
              "#7201a8"
             ],
             [
              0.3333333333333333,
              "#9c179e"
             ],
             [
              0.4444444444444444,
              "#bd3786"
             ],
             [
              0.5555555555555556,
              "#d8576b"
             ],
             [
              0.6666666666666666,
              "#ed7953"
             ],
             [
              0.7777777777777778,
              "#fb9f3a"
             ],
             [
              0.8888888888888888,
              "#fdca26"
             ],
             [
              1,
              "#f0f921"
             ]
            ],
            "type": "heatmapgl"
           }
          ],
          "histogram": [
           {
            "marker": {
             "pattern": {
              "fillmode": "overlay",
              "size": 10,
              "solidity": 0.2
             }
            },
            "type": "histogram"
           }
          ],
          "histogram2d": [
           {
            "colorbar": {
             "outlinewidth": 0,
             "ticks": ""
            },
            "colorscale": [
             [
              0,
              "#0d0887"
             ],
             [
              0.1111111111111111,
              "#46039f"
             ],
             [
              0.2222222222222222,
              "#7201a8"
             ],
             [
              0.3333333333333333,
              "#9c179e"
             ],
             [
              0.4444444444444444,
              "#bd3786"
             ],
             [
              0.5555555555555556,
              "#d8576b"
             ],
             [
              0.6666666666666666,
              "#ed7953"
             ],
             [
              0.7777777777777778,
              "#fb9f3a"
             ],
             [
              0.8888888888888888,
              "#fdca26"
             ],
             [
              1,
              "#f0f921"
             ]
            ],
            "type": "histogram2d"
           }
          ],
          "histogram2dcontour": [
           {
            "colorbar": {
             "outlinewidth": 0,
             "ticks": ""
            },
            "colorscale": [
             [
              0,
              "#0d0887"
             ],
             [
              0.1111111111111111,
              "#46039f"
             ],
             [
              0.2222222222222222,
              "#7201a8"
             ],
             [
              0.3333333333333333,
              "#9c179e"
             ],
             [
              0.4444444444444444,
              "#bd3786"
             ],
             [
              0.5555555555555556,
              "#d8576b"
             ],
             [
              0.6666666666666666,
              "#ed7953"
             ],
             [
              0.7777777777777778,
              "#fb9f3a"
             ],
             [
              0.8888888888888888,
              "#fdca26"
             ],
             [
              1,
              "#f0f921"
             ]
            ],
            "type": "histogram2dcontour"
           }
          ],
          "mesh3d": [
           {
            "colorbar": {
             "outlinewidth": 0,
             "ticks": ""
            },
            "type": "mesh3d"
           }
          ],
          "parcoords": [
           {
            "line": {
             "colorbar": {
              "outlinewidth": 0,
              "ticks": ""
             }
            },
            "type": "parcoords"
           }
          ],
          "pie": [
           {
            "automargin": true,
            "type": "pie"
           }
          ],
          "scatter": [
           {
            "fillpattern": {
             "fillmode": "overlay",
             "size": 10,
             "solidity": 0.2
            },
            "type": "scatter"
           }
          ],
          "scatter3d": [
           {
            "line": {
             "colorbar": {
              "outlinewidth": 0,
              "ticks": ""
             }
            },
            "marker": {
             "colorbar": {
              "outlinewidth": 0,
              "ticks": ""
             }
            },
            "type": "scatter3d"
           }
          ],
          "scattercarpet": [
           {
            "marker": {
             "colorbar": {
              "outlinewidth": 0,
              "ticks": ""
             }
            },
            "type": "scattercarpet"
           }
          ],
          "scattergeo": [
           {
            "marker": {
             "colorbar": {
              "outlinewidth": 0,
              "ticks": ""
             }
            },
            "type": "scattergeo"
           }
          ],
          "scattergl": [
           {
            "marker": {
             "colorbar": {
              "outlinewidth": 0,
              "ticks": ""
             }
            },
            "type": "scattergl"
           }
          ],
          "scattermapbox": [
           {
            "marker": {
             "colorbar": {
              "outlinewidth": 0,
              "ticks": ""
             }
            },
            "type": "scattermapbox"
           }
          ],
          "scatterpolar": [
           {
            "marker": {
             "colorbar": {
              "outlinewidth": 0,
              "ticks": ""
             }
            },
            "type": "scatterpolar"
           }
          ],
          "scatterpolargl": [
           {
            "marker": {
             "colorbar": {
              "outlinewidth": 0,
              "ticks": ""
             }
            },
            "type": "scatterpolargl"
           }
          ],
          "scatterternary": [
           {
            "marker": {
             "colorbar": {
              "outlinewidth": 0,
              "ticks": ""
             }
            },
            "type": "scatterternary"
           }
          ],
          "surface": [
           {
            "colorbar": {
             "outlinewidth": 0,
             "ticks": ""
            },
            "colorscale": [
             [
              0,
              "#0d0887"
             ],
             [
              0.1111111111111111,
              "#46039f"
             ],
             [
              0.2222222222222222,
              "#7201a8"
             ],
             [
              0.3333333333333333,
              "#9c179e"
             ],
             [
              0.4444444444444444,
              "#bd3786"
             ],
             [
              0.5555555555555556,
              "#d8576b"
             ],
             [
              0.6666666666666666,
              "#ed7953"
             ],
             [
              0.7777777777777778,
              "#fb9f3a"
             ],
             [
              0.8888888888888888,
              "#fdca26"
             ],
             [
              1,
              "#f0f921"
             ]
            ],
            "type": "surface"
           }
          ],
          "table": [
           {
            "cells": {
             "fill": {
              "color": "#EBF0F8"
             },
             "line": {
              "color": "white"
             }
            },
            "header": {
             "fill": {
              "color": "#C8D4E3"
             },
             "line": {
              "color": "white"
             }
            },
            "type": "table"
           }
          ]
         },
         "layout": {
          "annotationdefaults": {
           "arrowcolor": "#2a3f5f",
           "arrowhead": 0,
           "arrowwidth": 1
          },
          "autotypenumbers": "strict",
          "coloraxis": {
           "colorbar": {
            "outlinewidth": 0,
            "ticks": ""
           }
          },
          "colorscale": {
           "diverging": [
            [
             0,
             "#8e0152"
            ],
            [
             0.1,
             "#c51b7d"
            ],
            [
             0.2,
             "#de77ae"
            ],
            [
             0.3,
             "#f1b6da"
            ],
            [
             0.4,
             "#fde0ef"
            ],
            [
             0.5,
             "#f7f7f7"
            ],
            [
             0.6,
             "#e6f5d0"
            ],
            [
             0.7,
             "#b8e186"
            ],
            [
             0.8,
             "#7fbc41"
            ],
            [
             0.9,
             "#4d9221"
            ],
            [
             1,
             "#276419"
            ]
           ],
           "sequential": [
            [
             0,
             "#0d0887"
            ],
            [
             0.1111111111111111,
             "#46039f"
            ],
            [
             0.2222222222222222,
             "#7201a8"
            ],
            [
             0.3333333333333333,
             "#9c179e"
            ],
            [
             0.4444444444444444,
             "#bd3786"
            ],
            [
             0.5555555555555556,
             "#d8576b"
            ],
            [
             0.6666666666666666,
             "#ed7953"
            ],
            [
             0.7777777777777778,
             "#fb9f3a"
            ],
            [
             0.8888888888888888,
             "#fdca26"
            ],
            [
             1,
             "#f0f921"
            ]
           ],
           "sequentialminus": [
            [
             0,
             "#0d0887"
            ],
            [
             0.1111111111111111,
             "#46039f"
            ],
            [
             0.2222222222222222,
             "#7201a8"
            ],
            [
             0.3333333333333333,
             "#9c179e"
            ],
            [
             0.4444444444444444,
             "#bd3786"
            ],
            [
             0.5555555555555556,
             "#d8576b"
            ],
            [
             0.6666666666666666,
             "#ed7953"
            ],
            [
             0.7777777777777778,
             "#fb9f3a"
            ],
            [
             0.8888888888888888,
             "#fdca26"
            ],
            [
             1,
             "#f0f921"
            ]
           ]
          },
          "colorway": [
           "#636efa",
           "#EF553B",
           "#00cc96",
           "#ab63fa",
           "#FFA15A",
           "#19d3f3",
           "#FF6692",
           "#B6E880",
           "#FF97FF",
           "#FECB52"
          ],
          "font": {
           "color": "#2a3f5f"
          },
          "geo": {
           "bgcolor": "white",
           "lakecolor": "white",
           "landcolor": "#E5ECF6",
           "showlakes": true,
           "showland": true,
           "subunitcolor": "white"
          },
          "hoverlabel": {
           "align": "left"
          },
          "hovermode": "closest",
          "mapbox": {
           "style": "light"
          },
          "paper_bgcolor": "white",
          "plot_bgcolor": "#E5ECF6",
          "polar": {
           "angularaxis": {
            "gridcolor": "white",
            "linecolor": "white",
            "ticks": ""
           },
           "bgcolor": "#E5ECF6",
           "radialaxis": {
            "gridcolor": "white",
            "linecolor": "white",
            "ticks": ""
           }
          },
          "scene": {
           "xaxis": {
            "backgroundcolor": "#E5ECF6",
            "gridcolor": "white",
            "gridwidth": 2,
            "linecolor": "white",
            "showbackground": true,
            "ticks": "",
            "zerolinecolor": "white"
           },
           "yaxis": {
            "backgroundcolor": "#E5ECF6",
            "gridcolor": "white",
            "gridwidth": 2,
            "linecolor": "white",
            "showbackground": true,
            "ticks": "",
            "zerolinecolor": "white"
           },
           "zaxis": {
            "backgroundcolor": "#E5ECF6",
            "gridcolor": "white",
            "gridwidth": 2,
            "linecolor": "white",
            "showbackground": true,
            "ticks": "",
            "zerolinecolor": "white"
           }
          },
          "shapedefaults": {
           "line": {
            "color": "#2a3f5f"
           }
          },
          "ternary": {
           "aaxis": {
            "gridcolor": "white",
            "linecolor": "white",
            "ticks": ""
           },
           "baxis": {
            "gridcolor": "white",
            "linecolor": "white",
            "ticks": ""
           },
           "bgcolor": "#E5ECF6",
           "caxis": {
            "gridcolor": "white",
            "linecolor": "white",
            "ticks": ""
           }
          },
          "title": {
           "x": 0.05
          },
          "xaxis": {
           "automargin": true,
           "gridcolor": "white",
           "linecolor": "white",
           "ticks": "",
           "title": {
            "standoff": 15
           },
           "zerolinecolor": "white",
           "zerolinewidth": 2
          },
          "yaxis": {
           "automargin": true,
           "gridcolor": "white",
           "linecolor": "white",
           "ticks": "",
           "title": {
            "standoff": 15
           },
           "zerolinecolor": "white",
           "zerolinewidth": 2
          }
         }
        },
        "title": {
         "text": "State Overpaying Deltas"
        },
        "xaxis": {
         "anchor": "y",
         "domain": [
          0,
          1
         ],
         "title": {
          "text": "overpaying_delta"
         }
        },
        "yaxis": {
         "anchor": "x",
         "domain": [
          0,
          1
         ],
         "title": {
          "text": "count"
         }
        }
       }
      }
     },
     "metadata": {},
     "output_type": "display_data"
    }
   ],
   "source": [
    "## histogram\n",
    "\n",
    "merged_state[['state', 'overpaying_delta']]\n",
    "\n",
    "graph_col = 'overpaying_delta'\n",
    "nbins = 20\n",
    "title = 'State Overpaying Deltas'\n",
    "fig = px.histogram(merged_state, x=graph_col, nbins=nbins, title=title)\n",
    "fig.update_traces(marker_line_color='black', marker_line_width=1.5)\n",
    "fig.show()\n",
    "# sns.histplot(merged_state['overpaying_delta'], kde=False, bins=10)\n"
   ]
  },
  {
   "cell_type": "code",
   "execution_count": 331,
   "metadata": {},
   "outputs": [
    {
     "data": {
      "text/plain": [
       "count   45.00\n",
       "mean    -0.00\n",
       "std      0.14\n",
       "min     -0.58\n",
       "25%     -0.01\n",
       "50%      0.03\n",
       "75%      0.07\n",
       "max      0.22\n",
       "Name: overpaying_delta, dtype: float64"
      ]
     },
     "execution_count": 331,
     "metadata": {},
     "output_type": "execute_result"
    }
   ],
   "source": [
    "merged_state['overpaying_delta'].describe()"
   ]
  },
  {
   "cell_type": "code",
   "execution_count": 329,
   "metadata": {},
   "outputs": [
    {
     "data": {
      "application/vnd.plotly.v1+json": {
       "config": {
        "plotlyServerURL": "https://plot.ly"
       },
       "data": [
        {
         "alignmentgroup": "True",
         "bingroup": "x",
         "hovertemplate": "overpaying_delta=%{x}<br>count=%{y}<extra></extra>",
         "legendgroup": "",
         "marker": {
          "color": "#636efa",
          "line": {
           "color": "black",
           "width": 1.5
          },
          "pattern": {
           "shape": ""
          }
         },
         "name": "",
         "nbinsx": 50,
         "offsetgroup": "",
         "orientation": "v",
         "showlegend": false,
         "type": "histogram",
         "x": [
          0.12338013274995319,
          0.07365003188651786,
          0.03746745754391989,
          0.05246052223266462,
          0.0016868121415892778,
          -0.23988581557600008,
          0.18418097609188844,
          -0.03588312005345906,
          0.1539621254525686,
          0.15364480035151973,
          0.05622600011768286,
          0.19343770507124958,
          0.09765304412224307,
          0.06321393961011568,
          0.0033192546090801134,
          0.0183845597838328,
          0.04542676577798499,
          -0.052036154600759166,
          0.12964178811579452,
          -0.19723359131215168,
          -0.0014080406984698923,
          -0.06330424945274049,
          0.25097196666086297,
          -0.04631921232986136,
          0.16752904541189162,
          -0.1361800676641205,
          -0.1007105640867545,
          -0.06342591899764782,
          0.1285981788881544,
          -0.041192800116153894,
          -0.24410606944880797,
          0.036942137887462145,
          -0.025810169840352448,
          -0.03379590159817858,
          -0.023722951385071966,
          0.06702523445738084,
          -0.06909704430629848,
          -0.02476656061271232,
          -0.14972408713971475,
          -0.08016948360213805,
          -0.14904769262639306,
          0.11920569583939222,
          -0.07667551385592164,
          -0.14400952070250006,
          0.1383079870379652,
          0.10804331943639855,
          0.09520268360366702,
          0.049363633067094126,
          0.041343962791917876,
          0.04542676577798499,
          0.08962149540217013,
          -0.016054544728294706,
          -0.04323420160918756,
          -0.08732372187967685,
          -0.012289066843276464,
          -0.03901394773637967,
          -0.02843480919269914,
          -0.19360443310231423,
          0.08095529647999955,
          -0.0027600755840735403,
          -0.06560307456008208,
          -0.047091313418699654,
          -0.0212725908664958,
          0.026188720510011088,
          0.08095529647999955,
          -0.09899856984456945,
          -0.010836498590093502,
          -0.017098153955934836,
          -0.013107256500898834,
          0.010806090234209753,
          -0.03588312005345906,
          -0.14489531578828552,
          -0.0317086831428981,
          0.10459516665242896,
          -0.017098153955934836,
          0.03716952588135691,
          0.14425231730275778,
          0.04639842531990179,
          -0.011880107817733632,
          0.026733433604954615,
          -0.011291274577882815,
          0.04547258274023169,
          0.012122904417991465,
          0.031179378654317524,
          -0.05743577177060799,
          -0.02476656061271232,
          -0.041101166191660155,
          -0.07023172185265247,
          0.0811368675116475,
          0.02428307308637845,
          -0.017461296019230632,
          -0.005073739356948881,
          0.18300161279484728,
          -0.07803644818461075,
          -0.1274492239469971,
          -0.014829364469006623,
          -0.002579258693465647,
          -0.005981594515188204,
          -0.11973500032797302,
          0.16199367417264154,
          -0.18539074774481346,
          -0.05639216254296786,
          0.10981321279063017,
          0.06738837652067664,
          -0.04396048573577893,
          0.047650869514226146,
          0.10287109026044428,
          0.006904858279790371,
          0.13381622502635548,
          -0.1941804827833169,
          0.10804331943639855,
          -0.11124980683167018,
          0.1491072213776632,
          0.06353126471116455,
          0.09452221643932246,
          0.05132527908053075,
          0.010035685962710983,
          0.10355155742478883,
          0.08095529647999955,
          0.13204633167212387,
          0.19779371301345816,
          0.1473831449856784,
          0.15954331365406538,
          -0.11696731470834798,
          0.0007789569833499543,
          0.05658914218097855,
          -0.20904046003662813,
          -0.1262681638326162,
          -0.01664507478548538,
          -0.000990370765101778,
          -0.27010636303265945,
          0.07051920420359725,
          0.06775151858397233,
          0.0799116872523592,
          0.02282944215070859,
          -0.0400575569640198,
          -0.03901394773637967,
          -0.0692327983756994,
          0.14075834755654137,
          -0.037357748379095446,
          0.1674832284496448,
          0.10600191794336489,
          -0.16859322087603046,
          0.09384174927497801,
          0.09030196256651468,
          -0.07935156555105283,
          0.22683320035573684,
          -0.10633980928091247,
          -0.04215879204215989,
          -0.4604063845264763,
          0.021787461211335346,
          -0.01755292994372426,
          0.10355155742478883,
          -0.5271973750954511,
          0.012757554620089095,
          -0.011880107817733632,
          0.015253732100912187,
          -0.1593921509783015,
          -0.021726424177985426,
          0.2023312919873147,
          0.11816208661175209,
          0.015253732100912187,
          -0.03474900811288495,
          0.04996434475184164,
          0.09243499798404198,
          -0.027534246232337134,
          -0.12418094537733582,
          0.0972899020589475,
          -0.05670948764401662,
          0.09275232308509085,
          0.15813656236312956,
          0.10250794819714848,
          0.10808913639864537,
          -0.1633391998949677,
          0.02986426128787545,
          -0.15131478529598164,
          -0.20022866492567137,
          -0.0666466837877222,
          -0.14818395761306102,
          -0.010291785495150085,
          0.07641771750614301,
          0.0027304213692294077,
          -0.241292566866936,
          -0.0027608297251131564,
          -0.11011512928531597,
          -0.046682354393157044,
          0.18437442556843286,
          0.23468317804416183,
          0.12374327481324876,
          -0.0049379852875478525,
          -0.1659253144829449,
          0.1661681110832025,
          -0.12522455460497595,
          0.21744071730697478,
          -0.06864396513584858,
          -0.004193713739525706,
          -0.11106880140580233,
          -0.10806388567289726,
          0.0048176398245098895,
          0.0013236700782933708,
          0.013653531333431612,
          0.20196814992401912,
          -0.27677528060670353,
          0.11539440099212694,
          0.029750567290927843,
          -0.010836498590093502,
          0.0016868121415892778,
          0.003936489393442599,
          0.032631946907500264,
          0.23990122418236293,
          -0.16279448680002406,
          -0.40264473494296826,
          -0.018233397108069038,
          -0.12714369753424892,
          0.011759762354695669,
          0.13224729614225728,
          -0.2653855162098152,
          0.08195308874539298,
          0.3073268649534353,
          -0.03388753552267243,
          -0.0918748762827356,
          0.15468840957915997,
          0.19815685507675385,
          -0.04654196206695338,
          0.11435079176448681,
          -0.0015437947678708097,
          0.13313575786201093,
          0.0183845597838328,
          0.15083129776964788,
          0.10178166407055711,
          -0.13252981919845763,
          -0.10926496953422038,
          -0.1208642905329228,
          0.15889882133258282,
          0.11843359475055415,
          0.07537410827850266,
          0.17587791923301344,
          -0.2292959818087661,
          0.16929893876612312,
          -0.14373801256369811,
          -0.1806274775944018,
          -0.10512447114100987,
          0.09102824669310605,
          0.10704552717100524,
          -0.09611311757697416,
          0.08649066771924963,
          -0.11043358559792482,
          -0.023700891312618433,
          -0.0010808734780358709,
          0.017975600758290078,
          0.10563877588006931,
          0.007169336333317178,
          0.07119967136794181,
          -0.06755453894596164,
          0.22070729905929642,
          0.03784999304570136,
          -0.02231620009413593,
          0.0012778531160466677,
          0.08236204777093548,
          0.1609500649450013,
          -0.06666439960261572,
          0.07124548833018862,
          -0.13870153745714475,
          -0.21447774886667847,
          0.01135080332915317,
          -0.0875188683405268,
          -0.014875181431253548,
          -0.0049379852875478525,
          0.16199367417264154,
          -0.20759162492629657,
          0.011396620291400095,
          0.14248242394852617,
          -0.026899596030239614,
          0.2284215226783204,
          -0.006662061679532538,
          -0.020320615563349298,
          -0.0400575569640198,
          0.08758009390913668,
          0.20909184348585297,
          0.04209230699096278,
          0.04057186170307925,
          -0.10575912134310728,
          -0.226781816906512,
          0.14842675421331852,
          0.14007788039219682,
          0.06738837652067664,
          0.06702523445738084,
          -0.04055645309671663,
          -0.11825629935131365,
          -0.048805547691298856,
          0.23636143747389982,
          0.0006432029139489259,
          0.1174358024851605,
          -0.04478598348312968,
          0.18772076280035155,
          0.09471510031008712,
          -0.06837076017970689,
          0.09583733380576476,
          -0.03524846985136132,
          -0.2624379563758823,
          -0.0717289758565226,
          -0.012923717045373984,
          0.18354632588979058,
          -0.12721199383371695,
          -0.03692672928109919,
          -0.253886421267287,
          -0.24746428512562324,
          0.2467975297503021,
          -0.018141763183575188,
          -0.16556386923698874,
          0.06770570162172551,
          -0.09818234861082387,
          -0.0212725908664958,
          -0.01537407756395015,
          0.10391469948808452,
          0.22279451751457668,
          -0.05925148208708664,
          -0.08089407091138967,
          -0.0268537790679928,
          -0.15553503916878952,
          0.11748161944740743,
          0.038847785311094674,
          0.10146433896950835,
          -0.08388914452490948,
          -0.040330761920161384,
          0.08839631514288193,
          0.08857788617453,
          0.2393565110874195,
          -0.03833348057203523,
          0.10391469948808452,
          -0.15653283143418284,
          -0.0931458735042705,
          -0.14478162179133836,
          -0.16161512350298313,
          -0.05607483744191921,
          -0.10371771985007383,
          0.1626741413369861,
          0.03394706427394234,
          0.11435079176448681,
          -0.4903079100647474,
          -0.2961049597991713,
          -0.11277538192815273,
          0.07296956472217342,
          0.012757554620089095,
          0.1299591132168434,
          0.045260906982692584,
          -0.13340591756500042,
          -0.15208688638482004,
          -0.2912958726865127,
          -0.05330715182229395,
          -0.16175087757238393,
          0.10491249175347805
         ],
         "xaxis": "x",
         "yaxis": "y"
        }
       ],
       "layout": {
        "barmode": "relative",
        "legend": {
         "tracegroupgap": 0
        },
        "template": {
         "data": {
          "bar": [
           {
            "error_x": {
             "color": "#2a3f5f"
            },
            "error_y": {
             "color": "#2a3f5f"
            },
            "marker": {
             "line": {
              "color": "#E5ECF6",
              "width": 0.5
             },
             "pattern": {
              "fillmode": "overlay",
              "size": 10,
              "solidity": 0.2
             }
            },
            "type": "bar"
           }
          ],
          "barpolar": [
           {
            "marker": {
             "line": {
              "color": "#E5ECF6",
              "width": 0.5
             },
             "pattern": {
              "fillmode": "overlay",
              "size": 10,
              "solidity": 0.2
             }
            },
            "type": "barpolar"
           }
          ],
          "carpet": [
           {
            "aaxis": {
             "endlinecolor": "#2a3f5f",
             "gridcolor": "white",
             "linecolor": "white",
             "minorgridcolor": "white",
             "startlinecolor": "#2a3f5f"
            },
            "baxis": {
             "endlinecolor": "#2a3f5f",
             "gridcolor": "white",
             "linecolor": "white",
             "minorgridcolor": "white",
             "startlinecolor": "#2a3f5f"
            },
            "type": "carpet"
           }
          ],
          "choropleth": [
           {
            "colorbar": {
             "outlinewidth": 0,
             "ticks": ""
            },
            "type": "choropleth"
           }
          ],
          "contour": [
           {
            "colorbar": {
             "outlinewidth": 0,
             "ticks": ""
            },
            "colorscale": [
             [
              0,
              "#0d0887"
             ],
             [
              0.1111111111111111,
              "#46039f"
             ],
             [
              0.2222222222222222,
              "#7201a8"
             ],
             [
              0.3333333333333333,
              "#9c179e"
             ],
             [
              0.4444444444444444,
              "#bd3786"
             ],
             [
              0.5555555555555556,
              "#d8576b"
             ],
             [
              0.6666666666666666,
              "#ed7953"
             ],
             [
              0.7777777777777778,
              "#fb9f3a"
             ],
             [
              0.8888888888888888,
              "#fdca26"
             ],
             [
              1,
              "#f0f921"
             ]
            ],
            "type": "contour"
           }
          ],
          "contourcarpet": [
           {
            "colorbar": {
             "outlinewidth": 0,
             "ticks": ""
            },
            "type": "contourcarpet"
           }
          ],
          "heatmap": [
           {
            "colorbar": {
             "outlinewidth": 0,
             "ticks": ""
            },
            "colorscale": [
             [
              0,
              "#0d0887"
             ],
             [
              0.1111111111111111,
              "#46039f"
             ],
             [
              0.2222222222222222,
              "#7201a8"
             ],
             [
              0.3333333333333333,
              "#9c179e"
             ],
             [
              0.4444444444444444,
              "#bd3786"
             ],
             [
              0.5555555555555556,
              "#d8576b"
             ],
             [
              0.6666666666666666,
              "#ed7953"
             ],
             [
              0.7777777777777778,
              "#fb9f3a"
             ],
             [
              0.8888888888888888,
              "#fdca26"
             ],
             [
              1,
              "#f0f921"
             ]
            ],
            "type": "heatmap"
           }
          ],
          "heatmapgl": [
           {
            "colorbar": {
             "outlinewidth": 0,
             "ticks": ""
            },
            "colorscale": [
             [
              0,
              "#0d0887"
             ],
             [
              0.1111111111111111,
              "#46039f"
             ],
             [
              0.2222222222222222,
              "#7201a8"
             ],
             [
              0.3333333333333333,
              "#9c179e"
             ],
             [
              0.4444444444444444,
              "#bd3786"
             ],
             [
              0.5555555555555556,
              "#d8576b"
             ],
             [
              0.6666666666666666,
              "#ed7953"
             ],
             [
              0.7777777777777778,
              "#fb9f3a"
             ],
             [
              0.8888888888888888,
              "#fdca26"
             ],
             [
              1,
              "#f0f921"
             ]
            ],
            "type": "heatmapgl"
           }
          ],
          "histogram": [
           {
            "marker": {
             "pattern": {
              "fillmode": "overlay",
              "size": 10,
              "solidity": 0.2
             }
            },
            "type": "histogram"
           }
          ],
          "histogram2d": [
           {
            "colorbar": {
             "outlinewidth": 0,
             "ticks": ""
            },
            "colorscale": [
             [
              0,
              "#0d0887"
             ],
             [
              0.1111111111111111,
              "#46039f"
             ],
             [
              0.2222222222222222,
              "#7201a8"
             ],
             [
              0.3333333333333333,
              "#9c179e"
             ],
             [
              0.4444444444444444,
              "#bd3786"
             ],
             [
              0.5555555555555556,
              "#d8576b"
             ],
             [
              0.6666666666666666,
              "#ed7953"
             ],
             [
              0.7777777777777778,
              "#fb9f3a"
             ],
             [
              0.8888888888888888,
              "#fdca26"
             ],
             [
              1,
              "#f0f921"
             ]
            ],
            "type": "histogram2d"
           }
          ],
          "histogram2dcontour": [
           {
            "colorbar": {
             "outlinewidth": 0,
             "ticks": ""
            },
            "colorscale": [
             [
              0,
              "#0d0887"
             ],
             [
              0.1111111111111111,
              "#46039f"
             ],
             [
              0.2222222222222222,
              "#7201a8"
             ],
             [
              0.3333333333333333,
              "#9c179e"
             ],
             [
              0.4444444444444444,
              "#bd3786"
             ],
             [
              0.5555555555555556,
              "#d8576b"
             ],
             [
              0.6666666666666666,
              "#ed7953"
             ],
             [
              0.7777777777777778,
              "#fb9f3a"
             ],
             [
              0.8888888888888888,
              "#fdca26"
             ],
             [
              1,
              "#f0f921"
             ]
            ],
            "type": "histogram2dcontour"
           }
          ],
          "mesh3d": [
           {
            "colorbar": {
             "outlinewidth": 0,
             "ticks": ""
            },
            "type": "mesh3d"
           }
          ],
          "parcoords": [
           {
            "line": {
             "colorbar": {
              "outlinewidth": 0,
              "ticks": ""
             }
            },
            "type": "parcoords"
           }
          ],
          "pie": [
           {
            "automargin": true,
            "type": "pie"
           }
          ],
          "scatter": [
           {
            "fillpattern": {
             "fillmode": "overlay",
             "size": 10,
             "solidity": 0.2
            },
            "type": "scatter"
           }
          ],
          "scatter3d": [
           {
            "line": {
             "colorbar": {
              "outlinewidth": 0,
              "ticks": ""
             }
            },
            "marker": {
             "colorbar": {
              "outlinewidth": 0,
              "ticks": ""
             }
            },
            "type": "scatter3d"
           }
          ],
          "scattercarpet": [
           {
            "marker": {
             "colorbar": {
              "outlinewidth": 0,
              "ticks": ""
             }
            },
            "type": "scattercarpet"
           }
          ],
          "scattergeo": [
           {
            "marker": {
             "colorbar": {
              "outlinewidth": 0,
              "ticks": ""
             }
            },
            "type": "scattergeo"
           }
          ],
          "scattergl": [
           {
            "marker": {
             "colorbar": {
              "outlinewidth": 0,
              "ticks": ""
             }
            },
            "type": "scattergl"
           }
          ],
          "scattermapbox": [
           {
            "marker": {
             "colorbar": {
              "outlinewidth": 0,
              "ticks": ""
             }
            },
            "type": "scattermapbox"
           }
          ],
          "scatterpolar": [
           {
            "marker": {
             "colorbar": {
              "outlinewidth": 0,
              "ticks": ""
             }
            },
            "type": "scatterpolar"
           }
          ],
          "scatterpolargl": [
           {
            "marker": {
             "colorbar": {
              "outlinewidth": 0,
              "ticks": ""
             }
            },
            "type": "scatterpolargl"
           }
          ],
          "scatterternary": [
           {
            "marker": {
             "colorbar": {
              "outlinewidth": 0,
              "ticks": ""
             }
            },
            "type": "scatterternary"
           }
          ],
          "surface": [
           {
            "colorbar": {
             "outlinewidth": 0,
             "ticks": ""
            },
            "colorscale": [
             [
              0,
              "#0d0887"
             ],
             [
              0.1111111111111111,
              "#46039f"
             ],
             [
              0.2222222222222222,
              "#7201a8"
             ],
             [
              0.3333333333333333,
              "#9c179e"
             ],
             [
              0.4444444444444444,
              "#bd3786"
             ],
             [
              0.5555555555555556,
              "#d8576b"
             ],
             [
              0.6666666666666666,
              "#ed7953"
             ],
             [
              0.7777777777777778,
              "#fb9f3a"
             ],
             [
              0.8888888888888888,
              "#fdca26"
             ],
             [
              1,
              "#f0f921"
             ]
            ],
            "type": "surface"
           }
          ],
          "table": [
           {
            "cells": {
             "fill": {
              "color": "#EBF0F8"
             },
             "line": {
              "color": "white"
             }
            },
            "header": {
             "fill": {
              "color": "#C8D4E3"
             },
             "line": {
              "color": "white"
             }
            },
            "type": "table"
           }
          ]
         },
         "layout": {
          "annotationdefaults": {
           "arrowcolor": "#2a3f5f",
           "arrowhead": 0,
           "arrowwidth": 1
          },
          "autotypenumbers": "strict",
          "coloraxis": {
           "colorbar": {
            "outlinewidth": 0,
            "ticks": ""
           }
          },
          "colorscale": {
           "diverging": [
            [
             0,
             "#8e0152"
            ],
            [
             0.1,
             "#c51b7d"
            ],
            [
             0.2,
             "#de77ae"
            ],
            [
             0.3,
             "#f1b6da"
            ],
            [
             0.4,
             "#fde0ef"
            ],
            [
             0.5,
             "#f7f7f7"
            ],
            [
             0.6,
             "#e6f5d0"
            ],
            [
             0.7,
             "#b8e186"
            ],
            [
             0.8,
             "#7fbc41"
            ],
            [
             0.9,
             "#4d9221"
            ],
            [
             1,
             "#276419"
            ]
           ],
           "sequential": [
            [
             0,
             "#0d0887"
            ],
            [
             0.1111111111111111,
             "#46039f"
            ],
            [
             0.2222222222222222,
             "#7201a8"
            ],
            [
             0.3333333333333333,
             "#9c179e"
            ],
            [
             0.4444444444444444,
             "#bd3786"
            ],
            [
             0.5555555555555556,
             "#d8576b"
            ],
            [
             0.6666666666666666,
             "#ed7953"
            ],
            [
             0.7777777777777778,
             "#fb9f3a"
            ],
            [
             0.8888888888888888,
             "#fdca26"
            ],
            [
             1,
             "#f0f921"
            ]
           ],
           "sequentialminus": [
            [
             0,
             "#0d0887"
            ],
            [
             0.1111111111111111,
             "#46039f"
            ],
            [
             0.2222222222222222,
             "#7201a8"
            ],
            [
             0.3333333333333333,
             "#9c179e"
            ],
            [
             0.4444444444444444,
             "#bd3786"
            ],
            [
             0.5555555555555556,
             "#d8576b"
            ],
            [
             0.6666666666666666,
             "#ed7953"
            ],
            [
             0.7777777777777778,
             "#fb9f3a"
            ],
            [
             0.8888888888888888,
             "#fdca26"
            ],
            [
             1,
             "#f0f921"
            ]
           ]
          },
          "colorway": [
           "#636efa",
           "#EF553B",
           "#00cc96",
           "#ab63fa",
           "#FFA15A",
           "#19d3f3",
           "#FF6692",
           "#B6E880",
           "#FF97FF",
           "#FECB52"
          ],
          "font": {
           "color": "#2a3f5f"
          },
          "geo": {
           "bgcolor": "white",
           "lakecolor": "white",
           "landcolor": "#E5ECF6",
           "showlakes": true,
           "showland": true,
           "subunitcolor": "white"
          },
          "hoverlabel": {
           "align": "left"
          },
          "hovermode": "closest",
          "mapbox": {
           "style": "light"
          },
          "paper_bgcolor": "white",
          "plot_bgcolor": "#E5ECF6",
          "polar": {
           "angularaxis": {
            "gridcolor": "white",
            "linecolor": "white",
            "ticks": ""
           },
           "bgcolor": "#E5ECF6",
           "radialaxis": {
            "gridcolor": "white",
            "linecolor": "white",
            "ticks": ""
           }
          },
          "scene": {
           "xaxis": {
            "backgroundcolor": "#E5ECF6",
            "gridcolor": "white",
            "gridwidth": 2,
            "linecolor": "white",
            "showbackground": true,
            "ticks": "",
            "zerolinecolor": "white"
           },
           "yaxis": {
            "backgroundcolor": "#E5ECF6",
            "gridcolor": "white",
            "gridwidth": 2,
            "linecolor": "white",
            "showbackground": true,
            "ticks": "",
            "zerolinecolor": "white"
           },
           "zaxis": {
            "backgroundcolor": "#E5ECF6",
            "gridcolor": "white",
            "gridwidth": 2,
            "linecolor": "white",
            "showbackground": true,
            "ticks": "",
            "zerolinecolor": "white"
           }
          },
          "shapedefaults": {
           "line": {
            "color": "#2a3f5f"
           }
          },
          "ternary": {
           "aaxis": {
            "gridcolor": "white",
            "linecolor": "white",
            "ticks": ""
           },
           "baxis": {
            "gridcolor": "white",
            "linecolor": "white",
            "ticks": ""
           },
           "bgcolor": "#E5ECF6",
           "caxis": {
            "gridcolor": "white",
            "linecolor": "white",
            "ticks": ""
           }
          },
          "title": {
           "x": 0.05
          },
          "xaxis": {
           "automargin": true,
           "gridcolor": "white",
           "linecolor": "white",
           "ticks": "",
           "title": {
            "standoff": 15
           },
           "zerolinecolor": "white",
           "zerolinewidth": 2
          },
          "yaxis": {
           "automargin": true,
           "gridcolor": "white",
           "linecolor": "white",
           "ticks": "",
           "title": {
            "standoff": 15
           },
           "zerolinecolor": "white",
           "zerolinewidth": 2
          }
         }
        },
        "title": {
         "text": "City % Overpaying"
        },
        "xaxis": {
         "anchor": "y",
         "domain": [
          0,
          1
         ],
         "title": {
          "text": "overpaying_delta"
         }
        },
        "yaxis": {
         "anchor": "x",
         "domain": [
          0,
          1
         ],
         "title": {
          "text": "count"
         }
        }
       }
      }
     },
     "metadata": {},
     "output_type": "display_data"
    }
   ],
   "source": [
    "merged_city[['city', 'overpaying_delta']]\n",
    "\n",
    "graph_col = 'overpaying_delta'\n",
    "nbins = 50\n",
    "title = 'City % Overpaying'\n",
    "fig = px.histogram(merged_city, x=graph_col, nbins=nbins, title=title)\n",
    "fig.update_traces(marker_line_color='black', marker_line_width=1.5)\n",
    "fig.show()"
   ]
  },
  {
   "cell_type": "code",
   "execution_count": 339,
   "metadata": {},
   "outputs": [
    {
     "data": {
      "text/html": [
       "<div>\n",
       "<style scoped>\n",
       "    .dataframe tbody tr th:only-of-type {\n",
       "        vertical-align: middle;\n",
       "    }\n",
       "\n",
       "    .dataframe tbody tr th {\n",
       "        vertical-align: top;\n",
       "    }\n",
       "\n",
       "    .dataframe thead th {\n",
       "        text-align: right;\n",
       "    }\n",
       "</style>\n",
       "<table border=\"1\" class=\"dataframe\">\n",
       "  <thead>\n",
       "    <tr style=\"text-align: right;\">\n",
       "      <th></th>\n",
       "      <th>city</th>\n",
       "      <th>state</th>\n",
       "      <th>overpaying_delta</th>\n",
       "    </tr>\n",
       "  </thead>\n",
       "  <tbody>\n",
       "    <tr>\n",
       "      <th>218</th>\n",
       "      <td>ogdensburg</td>\n",
       "      <td>ny</td>\n",
       "      <td>0.31</td>\n",
       "    </tr>\n",
       "    <tr>\n",
       "      <th>22</th>\n",
       "      <td>auburn</td>\n",
       "      <td>ny</td>\n",
       "      <td>0.25</td>\n",
       "    </tr>\n",
       "    <tr>\n",
       "      <th>307</th>\n",
       "      <td>utica</td>\n",
       "      <td>ny</td>\n",
       "      <td>0.25</td>\n",
       "    </tr>\n",
       "    <tr>\n",
       "      <th>209</th>\n",
       "      <td>muskogee</td>\n",
       "      <td>ok</td>\n",
       "      <td>0.24</td>\n",
       "    </tr>\n",
       "    <tr>\n",
       "      <th>327</th>\n",
       "      <td>youngstown</td>\n",
       "      <td>oh</td>\n",
       "      <td>0.24</td>\n",
       "    </tr>\n",
       "    <tr>\n",
       "      <th>290</th>\n",
       "      <td>syracuse</td>\n",
       "      <td>ny</td>\n",
       "      <td>0.24</td>\n",
       "    </tr>\n",
       "    <tr>\n",
       "      <th>187</th>\n",
       "      <td>marion</td>\n",
       "      <td>in</td>\n",
       "      <td>0.23</td>\n",
       "    </tr>\n",
       "    <tr>\n",
       "      <th>273</th>\n",
       "      <td>shawnee</td>\n",
       "      <td>ok</td>\n",
       "      <td>0.23</td>\n",
       "    </tr>\n",
       "    <tr>\n",
       "      <th>146</th>\n",
       "      <td>johnstown</td>\n",
       "      <td>pa</td>\n",
       "      <td>0.23</td>\n",
       "    </tr>\n",
       "    <tr>\n",
       "      <th>315</th>\n",
       "      <td>watertown</td>\n",
       "      <td>ny</td>\n",
       "      <td>0.22</td>\n",
       "    </tr>\n",
       "    <tr>\n",
       "      <th>254</th>\n",
       "      <td>rochester</td>\n",
       "      <td>ny</td>\n",
       "      <td>0.22</td>\n",
       "    </tr>\n",
       "    <tr>\n",
       "      <th>193</th>\n",
       "      <td>meadville</td>\n",
       "      <td>pa</td>\n",
       "      <td>0.22</td>\n",
       "    </tr>\n",
       "    <tr>\n",
       "      <th>278</th>\n",
       "      <td>somerset</td>\n",
       "      <td>pa</td>\n",
       "      <td>0.21</td>\n",
       "    </tr>\n",
       "    <tr>\n",
       "      <th>159</th>\n",
       "      <td>kokomo</td>\n",
       "      <td>in</td>\n",
       "      <td>0.20</td>\n",
       "    </tr>\n",
       "    <tr>\n",
       "      <th>201</th>\n",
       "      <td>mobile</td>\n",
       "      <td>al</td>\n",
       "      <td>0.20</td>\n",
       "    </tr>\n",
       "    <tr>\n",
       "      <th>222</th>\n",
       "      <td>orangeburg</td>\n",
       "      <td>sc</td>\n",
       "      <td>0.20</td>\n",
       "    </tr>\n",
       "    <tr>\n",
       "      <th>120</th>\n",
       "      <td>greenwood</td>\n",
       "      <td>sc</td>\n",
       "      <td>0.20</td>\n",
       "    </tr>\n",
       "    <tr>\n",
       "      <th>11</th>\n",
       "      <td>altoona</td>\n",
       "      <td>pa</td>\n",
       "      <td>0.19</td>\n",
       "    </tr>\n",
       "    <tr>\n",
       "      <th>294</th>\n",
       "      <td>texarkana</td>\n",
       "      <td>tx</td>\n",
       "      <td>0.19</td>\n",
       "    </tr>\n",
       "    <tr>\n",
       "      <th>186</th>\n",
       "      <td>mansfield</td>\n",
       "      <td>oh</td>\n",
       "      <td>0.18</td>\n",
       "    </tr>\n",
       "    <tr>\n",
       "      <th>6</th>\n",
       "      <td>albany</td>\n",
       "      <td>ny</td>\n",
       "      <td>0.18</td>\n",
       "    </tr>\n",
       "    <tr>\n",
       "      <th>302</th>\n",
       "      <td>tulsa</td>\n",
       "      <td>ok</td>\n",
       "      <td>0.18</td>\n",
       "    </tr>\n",
       "    <tr>\n",
       "      <th>92</th>\n",
       "      <td>erie</td>\n",
       "      <td>pa</td>\n",
       "      <td>0.18</td>\n",
       "    </tr>\n",
       "    <tr>\n",
       "      <th>236</th>\n",
       "      <td>pocatello</td>\n",
       "      <td>id</td>\n",
       "      <td>0.18</td>\n",
       "    </tr>\n",
       "    <tr>\n",
       "      <th>238</th>\n",
       "      <td>portsmouth</td>\n",
       "      <td>oh</td>\n",
       "      <td>0.17</td>\n",
       "    </tr>\n",
       "    <tr>\n",
       "      <th>24</th>\n",
       "      <td>augusta</td>\n",
       "      <td>ga</td>\n",
       "      <td>0.17</td>\n",
       "    </tr>\n",
       "    <tr>\n",
       "      <th>140</th>\n",
       "      <td>ithaca</td>\n",
       "      <td>ny</td>\n",
       "      <td>0.17</td>\n",
       "    </tr>\n",
       "    <tr>\n",
       "      <th>191</th>\n",
       "      <td>martinsville</td>\n",
       "      <td>va</td>\n",
       "      <td>0.17</td>\n",
       "    </tr>\n",
       "    <tr>\n",
       "      <th>336</th>\n",
       "      <td>lafayette</td>\n",
       "      <td>in</td>\n",
       "      <td>0.16</td>\n",
       "    </tr>\n",
       "    <tr>\n",
       "      <th>268</th>\n",
       "      <td>searcy</td>\n",
       "      <td>ar</td>\n",
       "      <td>0.16</td>\n",
       "    </tr>\n",
       "  </tbody>\n",
       "</table>\n",
       "</div>"
      ],
      "text/plain": [
       "             city state  overpaying_delta\n",
       "218    ogdensburg    ny              0.31\n",
       "22         auburn    ny              0.25\n",
       "307         utica    ny              0.25\n",
       "209      muskogee    ok              0.24\n",
       "327    youngstown    oh              0.24\n",
       "290      syracuse    ny              0.24\n",
       "187        marion    in              0.23\n",
       "273       shawnee    ok              0.23\n",
       "146     johnstown    pa              0.23\n",
       "315     watertown    ny              0.22\n",
       "254     rochester    ny              0.22\n",
       "193     meadville    pa              0.22\n",
       "278      somerset    pa              0.21\n",
       "159        kokomo    in              0.20\n",
       "201        mobile    al              0.20\n",
       "222    orangeburg    sc              0.20\n",
       "120     greenwood    sc              0.20\n",
       "11        altoona    pa              0.19\n",
       "294     texarkana    tx              0.19\n",
       "186     mansfield    oh              0.18\n",
       "6          albany    ny              0.18\n",
       "302         tulsa    ok              0.18\n",
       "92           erie    pa              0.18\n",
       "236     pocatello    id              0.18\n",
       "238    portsmouth    oh              0.17\n",
       "24        augusta    ga              0.17\n",
       "140        ithaca    ny              0.17\n",
       "191  martinsville    va              0.17\n",
       "336     lafayette    in              0.16\n",
       "268        searcy    ar              0.16"
      ]
     },
     "execution_count": 339,
     "metadata": {},
     "output_type": "execute_result"
    }
   ],
   "source": [
    "merged_city['overpaying_delta'].describe()\n",
    "merged_city[merged_city['overpaying_delta'] < 0 ].sort_values(by = 'abs', ascending = False).head(30)[['city', 'state', 'overpaying_delta']]\n",
    "merged_city[merged_city['overpaying_delta'] > 0 ].sort_values(by = 'abs', ascending = False).head(30)[['city', 'state', 'overpaying_delta']]"
   ]
  },
  {
   "cell_type": "markdown",
   "metadata": {},
   "source": [
    "# Variations in Pricing Analysis"
   ]
  },
  {
   "cell_type": "code",
   "execution_count": null,
   "metadata": {},
   "outputs": [],
   "source": [
    "def visualize_deviations(state_distro, bounds, graph_col = 'mean', nbins=20, title='Histogram of Mean Values by State'):\n",
    "    \n",
    "    # Calculate statistics\n",
    "    mean_value = state_distro[graph_col].mean()\n",
    "    # print(mean_value)\n",
    "    # median_value = state_distro[graph_col].median()  # Uncommented for proper usage\n",
    "    \n",
    "    # Adjust plus_val and minus_val based on mean\n",
    "    plus_val = mean_value * (1 + bounds)  # Apply the plus_val percentage to the mean\n",
    "    minus_val = mean_value * (1 - bounds)  # Apply the minus_val percentage to the mean\n",
    "    \n",
    "    # Calculate the percentage of data within the range\n",
    "    pct_data_in_range = len(state_distro[(state_distro[graph_col] >= minus_val) & (state_distro[graph_col] <= plus_val)]) / len(state_distro)\n",
    "    \n",
    "    # Create the histogram\n",
    "    fig = px.histogram(state_distro, x=graph_col, nbins=nbins, title=title)\n",
    "    # Change the x-axis label\n",
    "    fig.update_xaxes(title_text='Price')\n",
    "    fig.update_yaxes(title_text='Count')\n",
    "    fig.update_traces(marker_color='#a77bca') # #a77bca #36399a\n",
    "    # Adding black lines around each bin\n",
    "    fig.update_traces(marker_line_color='black', marker_line_width=1.5)\n",
    "\n",
    "    # Add vertical lines for the mean, plus_val, and minus_val\n",
    "    fig.add_vline(x=mean_value, line=dict(color='green', dash='dash'))\n",
    "    fig.add_vline(x=plus_val, line=dict(color='red', dash='dash'))\n",
    "    fig.add_vline(x=minus_val, line=dict(color='purple', dash='dash'))\n",
    "    \n",
    "    # Add annotations for clarity\n",
    "    label_pos = 1000\n",
    "    ay_val = 0\n",
    "    offset = 0.7\n",
    "    fig.add_annotation(x=mean_value - offset, y=label_pos, text='mean', showarrow=False, arrowhead=1, ax=0, ay=ay_val)\n",
    "    fig.add_annotation(x=plus_val- offset, y=label_pos, text=f\"+{bounds}%\", showarrow=False, arrowhead=1, ax=0, ay=ay_val)\n",
    "    fig.add_annotation(x=minus_val- offset, y=label_pos, text=f\"-{bounds}%\", showarrow=False, arrowhead=1, ax=0, ay=ay_val)\n",
    "    \n",
    "    # Add annotation for the percentage of data within the range\n",
    "    fig.add_annotation(\n",
    "        text=f\"\"\"The mean is ${round(mean_value, 2)}<br>The lower bound is ${round(minus_val, 2)}<br>The upper bound is ${round(plus_val, 2)}<br>\"\"\",\n",
    "        xref=\"paper\", yref=\"paper\",\n",
    "        x=0, y=1,\n",
    "        showarrow=False,\n",
    "        font=dict(size=12),\n",
    "        align=\"left\",\n",
    "        xanchor='left',\n",
    "        yanchor='top'\n",
    "    )\n",
    "    \n",
    "    # Show the figure\n",
    "    fig.show()\n",
    "    # {round(pct_data_in_range * 100, 1)}% of the data falls within {100*bounds}% of the mean<br>\n",
    "\n",
    "        # text=f\"\"\"The amount of data within the bands is {round(pct_data_in_range * 100, 1)}%\\n\n",
    "        # The mean value is {mean_value}\\n\n",
    "        # The upper bound is {plus_val}\\n\n",
    "        # The lower bound is {minus_val}\\n\n",
    "        #       \"\"\",\n"
   ]
  },
  {
   "cell_type": "code",
   "execution_count": null,
   "metadata": {},
   "outputs": [],
   "source": [
    "bounds = .1\n",
    "visualize_deviations(state_distro, bounds, nbins=20, title='Histogram of Mean Values by State')"
   ]
  },
  {
   "cell_type": "code",
   "execution_count": null,
   "metadata": {},
   "outputs": [],
   "source": [
    "bounds = .10\n",
    "visualize_deviations(state_distro, bounds, nbins=20, title='Histogram of Mean Values by State')"
   ]
  },
  {
   "cell_type": "code",
   "execution_count": null,
   "metadata": {},
   "outputs": [],
   "source": [
    "bounds = .15\n",
    "visualize_deviations(working, bounds, graph_col = 'value', nbins=30, title = 'Distribution of Supreme Taco Party Pack Prices Across the Country')"
   ]
  },
  {
   "cell_type": "code",
   "execution_count": null,
   "metadata": {},
   "outputs": [],
   "source": [
    "working[working['value'] == 15.99]"
   ]
  },
  {
   "cell_type": "code",
   "execution_count": null,
   "metadata": {},
   "outputs": [],
   "source": [
    "# bounds = .15\n",
    "# visualize_deviations(working[~working['state'].isin(['hi', 'ak'])], bounds, graph_col = 'value', nbins=100, title = 'all prices') "
   ]
  },
  {
   "cell_type": "code",
   "execution_count": null,
   "metadata": {},
   "outputs": [],
   "source": [
    "working[working['state'] == 'ms']['value'].describe()"
   ]
  },
  {
   "cell_type": "code",
   "execution_count": null,
   "metadata": {},
   "outputs": [],
   "source": [
    "state_distro.describe()"
   ]
  },
  {
   "cell_type": "code",
   "execution_count": null,
   "metadata": {},
   "outputs": [],
   "source": [
    "state_coli['Cost of Living Index'].describe()"
   ]
  },
  {
   "cell_type": "code",
   "execution_count": null,
   "metadata": {},
   "outputs": [],
   "source": [
    "city_coli['cost of living index'].describe()"
   ]
  },
  {
   "cell_type": "code",
   "execution_count": null,
   "metadata": {},
   "outputs": [],
   "source": [
    "item_distro"
   ]
  },
  {
   "cell_type": "code",
   "execution_count": null,
   "metadata": {},
   "outputs": [],
   "source": [
    "state_distro"
   ]
  },
  {
   "cell_type": "code",
   "execution_count": 341,
   "metadata": {},
   "outputs": [
    {
     "data": {
      "text/plain": [
       "7177"
      ]
     },
     "execution_count": 341,
     "metadata": {},
     "output_type": "execute_result"
    }
   ],
   "source": [
    "full_df['location_url'].nunique()"
   ]
  },
  {
   "cell_type": "code",
   "execution_count": null,
   "metadata": {},
   "outputs": [],
   "source": []
  }
 ],
 "metadata": {
  "kernelspec": {
   "display_name": "myenv",
   "language": "python",
   "name": "python3"
  },
  "language_info": {
   "codemirror_mode": {
    "name": "ipython",
    "version": 3
   },
   "file_extension": ".py",
   "mimetype": "text/x-python",
   "name": "python",
   "nbconvert_exporter": "python",
   "pygments_lexer": "ipython3",
   "version": "3.12.2"
  }
 },
 "nbformat": 4,
 "nbformat_minor": 2
}
