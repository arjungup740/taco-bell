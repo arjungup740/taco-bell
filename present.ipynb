{
 "cells": [
  {
   "cell_type": "code",
   "execution_count": 91,
   "metadata": {},
   "outputs": [],
   "source": [
    "import pandas as pd\n",
    "import pickle as pkl\n",
    "import matplotlib.pyplot as plt\n",
    "import plotly.express as px\n",
    "import seaborn as sns\n",
    "import scipy.stats as stats\n",
    "import numpy as np\n",
    "from adjustText import adjust_text\n",
    "pd.options.display.float_format = '{:.2f}'.format"
   ]
  },
  {
   "cell_type": "markdown",
   "metadata": {},
   "source": [
    "# Data Loads"
   ]
  },
  {
   "cell_type": "code",
   "execution_count": null,
   "metadata": {},
   "outputs": [],
   "source": [
    "## state COLI\n",
    "state_abbreviations = {\n",
    "    'Alabama': 'al',\n",
    "    'Alaska': 'ak',\n",
    "    'Arizona': 'az',\n",
    "    'Arkansas': 'ar',\n",
    "    'California': 'ca',\n",
    "    'Colorado': 'co',\n",
    "    'Connecticut': 'ct',\n",
    "    'Delaware': 'de',\n",
    "    'Florida': 'fl',\n",
    "    'Georgia': 'ga',\n",
    "    'Hawaii': 'hi',\n",
    "    'Idaho': 'id',\n",
    "    'Illinois': 'il',\n",
    "    'Indiana': 'in',\n",
    "    'Iowa': 'ia',\n",
    "    'Kansas': 'ks',\n",
    "    'Kentucky': 'ky',\n",
    "    'Louisiana': 'la',\n",
    "    'Maine': 'me',\n",
    "    'Maryland': 'md',\n",
    "    'Massachusetts': 'ma',\n",
    "    'Michigan': 'mi',\n",
    "    'Minnesota': 'mn',\n",
    "    'Mississippi': 'ms',\n",
    "    'Missouri': 'mo',\n",
    "    'Montana': 'mt',\n",
    "    'Nebraska': 'ne',\n",
    "    'Nevada': 'nv',\n",
    "    'New Hampshire': 'nh',\n",
    "    'New Jersey': 'nj',\n",
    "    'New Mexico': 'nm',\n",
    "    'New York': 'ny',\n",
    "    'North Carolina': 'nc',\n",
    "    'North Dakota': 'nd',\n",
    "    'Ohio': 'oh',\n",
    "    'Oklahoma': 'ok',\n",
    "    'Oregon': 'or',\n",
    "    'Pennsylvania': 'pa',\n",
    "    'Rhode Island': 'ri',\n",
    "    'South Carolina': 'sc',\n",
    "    'South Dakota': 'sd',\n",
    "    'Tennessee': 'tn',\n",
    "    'Texas': 'tx',\n",
    "    'Utah': 'ut',\n",
    "    'Vermont': 'vt',\n",
    "    'Virginia': 'va',\n",
    "    'Washington': 'wa',\n",
    "    'West Virginia': 'wv',\n",
    "    'Wisconsin': 'wi',\n",
    "    'Wyoming': 'wy',\n",
    "    'District of Columbia': 'dc',\n",
    "    'Puerto Rico': 'pr',\n",
    "    'Guam': 'gu',\n",
    "    'American Samoa': 'as',\n",
    "    'U.S. Virgin Islands': 'vi',\n",
    "    'Northern Mariana Islands': 'mp'\n",
    "}\n",
    "\n",
    "# Replace state names with their abbreviations\n",
    "\n",
    "state_coli = pd.read_csv('data/demographic_data/world_population_review_coli.csv')\n",
    "\n",
    "state_coli['abbrev'] = state_coli['State'].replace(state_abbreviations)\n",
    "\n"
   ]
  },
  {
   "cell_type": "code",
   "execution_count": null,
   "metadata": {},
   "outputs": [],
   "source": [
    "## city COLI\n",
    "\n",
    "city_coli = pd.read_csv('data/demographic_data/advisorsmith_cost_of_living_index.csv')\n",
    "city_coli.columns = [x.lower() for x in city_coli.columns]\n",
    "city_coli['city'] = city_coli['city'].str.lower()\n",
    "city_coli['state'] = city_coli['state'].str.lower()\n",
    "city_coli"
   ]
  },
  {
   "cell_type": "code",
   "execution_count": null,
   "metadata": {},
   "outputs": [],
   "source": [
    "# with open('data/spring_2023/full_df.pkl', 'rb') as file:\n",
    "with open('data/summer_2024_august/full_df.pkl', 'rb') as file:\n",
    "    full_df = pkl.load(file)\n",
    "\n",
    "len(full_df)"
   ]
  },
  {
   "cell_type": "code",
   "execution_count": null,
   "metadata": {},
   "outputs": [],
   "source": [
    "full_df[full_df['value'] == 0]['item_name'].unique()"
   ]
  },
  {
   "cell_type": "code",
   "execution_count": null,
   "metadata": {},
   "outputs": [],
   "source": [
    "\n",
    "full_df = full_df.drop_duplicates(subset = ['item_name', 'store_id']) # need this because the same item might be listed under multiple categories\n",
    "len(full_df)\n",
    "\n",
    "full_df['state'], full_df['city'] = zip(*full_df['location_url'].str.split('/').str[3:5])"
   ]
  },
  {
   "cell_type": "markdown",
   "metadata": {},
   "source": [
    "# Aggregations"
   ]
  },
  {
   "cell_type": "code",
   "execution_count": null,
   "metadata": {},
   "outputs": [],
   "source": [
    "\n",
    "core_items = [\n",
    "              'Supreme Taco Party Pack', \n",
    "            #   'Chicken Quesadilla', \n",
    "            #   'Cinnabon Delights® 12 Pack', \n",
    "            #   'Crunchwrap Supreme®', \n",
    "            #   'Beefy 5 Layer Burrito', \n",
    "            #   'Nacho Cheese Doritos Locos Taco', \n",
    "            #   '3 Doritos Locos Tacos Combo'\n",
    "              ]\n",
    "\n",
    "working = full_df[full_df['item_name'].isin(core_items)]"
   ]
  },
  {
   "cell_type": "code",
   "execution_count": null,
   "metadata": {},
   "outputs": [],
   "source": [
    "# working.head()\n",
    "# city_distro[city_distro['num_stores'] != 1]\n",
    "# working[working['city'] == 'fort-bragg']"
   ]
  },
  {
   "cell_type": "code",
   "execution_count": null,
   "metadata": {},
   "outputs": [],
   "source": [
    "agg_funcs = {\n",
    "    'mean': 'mean',\n",
    "    'median': 'median',\n",
    "    'num_stores': 'size',\n",
    "    'nunique_prices': 'nunique',\n",
    "    'max': 'max',\n",
    "    'min': 'min',\n",
    "    'sd': 'std'\n",
    "}\n",
    "\n",
    "########## in aggregate\n",
    "\n",
    "# metric = 'median'\n",
    "metric = 'mean'\n",
    "\n",
    "state_distro = working.groupby(['state', 'item_name'])['value'].agg(**agg_funcs).sort_values(by = ['item_name', metric], ascending = False).reset_index()\n",
    "\n",
    "city_distro = working.groupby(['city', 'state', 'item_name'])['value'].agg(**agg_funcs).sort_values(by = ['item_name', metric], ascending = False).reset_index()\n",
    "\n",
    "item_distro = working.groupby('item_name')['value'].agg(**agg_funcs).sort_values(by = ['item_name', metric], ascending = False).reset_index()\n"
   ]
  },
  {
   "cell_type": "markdown",
   "metadata": {},
   "source": [
    "# Cost of Living Correlations"
   ]
  },
  {
   "cell_type": "code",
   "execution_count": null,
   "metadata": {},
   "outputs": [],
   "source": [
    "def plot_regression(merged_df, x_var, y_var, hue_var='state', title_prefix='', label_top_n=10):\n",
    "    \"\"\"\n",
    "    Plots a linear regression scatter plot with a regression line, R-squared, and RMSE.\n",
    "    \n",
    "    Parameters:\n",
    "    merged_df (pd.DataFrame): The dataframe containing the data to plot.\n",
    "    x_var (str): The name of the column to use as the independent variable (X-axis).\n",
    "    y_var (str): The name of the column to use as the dependent variable (Y-axis).\n",
    "    hue_var (str): The name of the column to use for coloring the points (default is 'state').\n",
    "    title_prefix (str): A string to prefix the title of the plot with.\n",
    "    label_top_n (int): The number of top points to label (default is 10).\n",
    "    \n",
    "    Returns:\n",
    "    None\n",
    "    \"\"\"\n",
    "    # Perform the regression\n",
    "    slope, intercept, r_value, p_value, std_err = stats.linregress(merged_df[x_var], merged_df[y_var])\n",
    "    \n",
    "    # Calculate predicted values\n",
    "    y_pred = intercept + slope * merged_df[x_var]\n",
    "    \n",
    "    # Calculate R-squared and RMSE\n",
    "    r_squared = r_value\n",
    "    rmse = np.sqrt(np.mean((y_pred - merged_df[y_var])**2))\n",
    "    \n",
    "    # Create the scatter plot\n",
    "    plt.figure(figsize=(10, 6))\n",
    "    sns.scatterplot(x=merged_df[x_var], y=merged_df[y_var], hue=merged_df[hue_var], palette=\"viridis\", s=100, legend=False)\n",
    "    \n",
    "    # Plot the regression line\n",
    "    plt.plot(merged_df[x_var], y_pred, color='red', label=f'Regression Line\\ny = ${intercept:.2f} + ${slope:.2f}x')\n",
    "    \n",
    "    # Annotate only a subset of points to avoid clutter\n",
    "    if label_top_n > 0:\n",
    "        top_n_df = merged_df.nlargest(label_top_n, y_var)\n",
    "        texts = []\n",
    "        for i in range(len(top_n_df)):\n",
    "            texts.append(plt.text(top_n_df[x_var].iloc[i], top_n_df[y_var].iloc[i], top_n_df[hue_var].iloc[i], fontsize=9))\n",
    "        adjust_text(texts, arrowprops=dict(arrowstyle='-', color='black'))\n",
    "    \n",
    "    # Add R-squared and RMSE to the plot\n",
    "    plt.text(0.05, 0.95, f'r = {r_squared:.2f}\\nRMSE = ${rmse:.2f}', transform=plt.gca().transAxes, \n",
    "             fontsize=12, verticalalignment='top', bbox=dict(boxstyle=\"round,pad=0.3\", edgecolor=\"black\", facecolor=\"white\"))\n",
    "    \n",
    "    # Add labels and title\n",
    "    plt.xlabel(x_var)\n",
    "    plt.ylabel(f'{y_var} ($)')\n",
    "    plt.title(f'{title_prefix}{y_var} against {x_var}')\n",
    "    plt.legend()\n",
    "    \n",
    "    # Show the plot\n",
    "    plt.show()"
   ]
  },
  {
   "cell_type": "code",
   "execution_count": null,
   "metadata": {},
   "outputs": [],
   "source": [
    "merged_city = city_coli.merge(city_distro, how = 'inner', on = ['city', 'state'])\n",
    "# plot_regression(merged_city, 'cost of living index', 'mean', hue_var = 'city', title_prefix='Taco Bell Prices: ', label_top_n=0)\n",
    "plot_regression(merged_city[merged_city['cost of living index'] < 121], 'cost of living index', 'mean', hue_var = 'city', title_prefix='Taco Bell Prices removing anything above COLI =121: ', label_top_n=0)\n",
    "# plot_regression(merged_city[merged_city['cost of living index'] >= 121], 'cost of living index', 'mean', hue_var = 'city', title_prefix='Taco Bell Prices removing anything above COLI =121: ', label_top_n=0)"
   ]
  },
  {
   "cell_type": "code",
   "execution_count": null,
   "metadata": {},
   "outputs": [],
   "source": [
    "merged_state = state_distro.merge(state_coli, how = 'left', left_on = 'state', right_on = 'abbrev')\n",
    "# plot_regression(merged_state, 'Cost of Living Index', 'mean', title_prefix='Taco Bell Prices: ', label_top_n=50)\n",
    "plot_regression(merged_state[merged_state['state'] !='hi'], 'Cost of Living Index', 'mean', title_prefix='Taco Bell Prices: ', label_top_n=50)\n",
    "# plot_regression(merged_state[merged_state['state'] !='vt'], 'Cost of Living Index', 'mean', title_prefix='Taco Bell Prices: ', label_top_n=50)"
   ]
  },
  {
   "cell_type": "markdown",
   "metadata": {},
   "source": [
    "# Overpaying Analysis"
   ]
  },
  {
   "cell_type": "code",
   "execution_count": null,
   "metadata": {},
   "outputs": [],
   "source": [
    "merged_city['mean_coli'] = merged_city['cost of living index'].mean()\n",
    "merged_city['pct_deviation_coli'] = (merged_city['cost of living index'] / merged_city['cost of living index'].mean()) - 1\n",
    "merged_city['pct_deviation_price'] = (merged_city['mean'] / merged_city['mean'].mean()) - 1\n",
    "\n",
    "# plot_regression(merged_city, 'pct_deviation_coli', 'pct_deviation_price', title_prefix='Taco Bell Prices: ', label_top_n=50)\n",
    "\n",
    "merged_city['overpaying_delta'] = merged_city['pct_deviation_price'] - merged_city['pct_deviation_coli']\n",
    "merged_city['overpaying_delta'].describe()"
   ]
  },
  {
   "cell_type": "code",
   "execution_count": null,
   "metadata": {},
   "outputs": [],
   "source": [
    "merged_state['mean_coli'] = merged_state['Cost of Living Index'].mean()\n",
    "merged_state['pct_deviation_coli'] = (merged_state['Cost of Living Index'] / merged_state['Cost of Living Index'].mean()) - 1\n",
    "merged_state['pct_deviation_price'] = (merged_state['mean'] / merged_state['mean'].mean()) - 1\n",
    "\n",
    "# plot_regression(merged_state, 'pct_deviation_coli', 'pct_deviation_price', title_prefix='Taco Bell Prices: ', label_top_n=50)\n",
    "merged_state['overpaying_delta'] = merged_state['pct_deviation_price'] - merged_state['pct_deviation_coli']\n",
    "merged_state['overpaying_delta'].describe()"
   ]
  },
  {
   "cell_type": "code",
   "execution_count": null,
   "metadata": {},
   "outputs": [],
   "source": [
    "## histogram\n",
    "\n",
    "merged_state[['state', 'overpaying_delta']]\n",
    "\n",
    "graph_col = 'overpaying_delta'\n",
    "nbins = 20\n",
    "title = 'state % deviations'\n",
    "fig = px.histogram(merged_state, x=graph_col, nbins=nbins, title=title)\n",
    "fig.update_traces(marker_line_color='black', marker_line_width=1.5)\n",
    "fig.show()\n",
    "# sns.histplot(merged_state['overpaying_delta'], kde=False, bins=10)\n"
   ]
  },
  {
   "cell_type": "code",
   "execution_count": null,
   "metadata": {},
   "outputs": [],
   "source": [
    "merged_city[['city', 'overpaying_delta']]\n",
    "\n",
    "graph_col = 'overpaying_delta'\n",
    "nbins = 50\n",
    "title = 'city % deviations'\n",
    "fig = px.histogram(merged_city, x=graph_col, nbins=nbins, title=title)\n",
    "fig.update_traces(marker_line_color='black', marker_line_width=1.5)\n",
    "fig.show()"
   ]
  },
  {
   "cell_type": "code",
   "execution_count": null,
   "metadata": {},
   "outputs": [],
   "source": [
    "merged_city[]"
   ]
  },
  {
   "cell_type": "markdown",
   "metadata": {},
   "source": [
    "# Variations in Pricing Analysis"
   ]
  },
  {
   "cell_type": "code",
   "execution_count": null,
   "metadata": {},
   "outputs": [],
   "source": [
    "def visualize_deviations(state_distro, bounds, graph_col = 'mean', nbins=20, title='Histogram of Mean Values by State'):\n",
    "    \n",
    "    # Calculate statistics\n",
    "    mean_value = state_distro[graph_col].mean()\n",
    "    # print(mean_value)\n",
    "    # median_value = state_distro[graph_col].median()  # Uncommented for proper usage\n",
    "    \n",
    "    # Adjust plus_val and minus_val based on mean\n",
    "    plus_val = mean_value * (1 + bounds)  # Apply the plus_val percentage to the mean\n",
    "    minus_val = mean_value * (1 - bounds)  # Apply the minus_val percentage to the mean\n",
    "    \n",
    "    # Calculate the percentage of data within the range\n",
    "    pct_data_in_range = len(state_distro[(state_distro[graph_col] >= minus_val) & (state_distro[graph_col] <= plus_val)]) / len(state_distro)\n",
    "    \n",
    "    # Create the histogram\n",
    "    fig = px.histogram(state_distro, x=graph_col, nbins=nbins, title=title)\n",
    "    # Adding black lines around each bin\n",
    "    fig.update_traces(marker_line_color='black', marker_line_width=1.5)\n",
    "\n",
    "    # Add vertical lines for the mean, plus_val, and minus_val\n",
    "    fig.add_vline(x=mean_value, line=dict(color='green', dash='dash'))\n",
    "    fig.add_vline(x=plus_val, line=dict(color='red', dash='dash'))\n",
    "    fig.add_vline(x=minus_val, line=dict(color='purple', dash='dash'))\n",
    "    \n",
    "    # Add annotations for clarity\n",
    "    fig.add_annotation(x=mean_value, y=0, text=graph_col, showarrow=False, arrowhead=1, ax=0, ay=-40)\n",
    "    fig.add_annotation(x=plus_val, y=0, text=\"Plus Value\", showarrow=False, arrowhead=1, ax=0, ay=-40)\n",
    "    fig.add_annotation(x=minus_val, y=0, text=\"Minus Value\", showarrow=False, arrowhead=1, ax=0, ay=-40)\n",
    "    \n",
    "    # Add annotation for the percentage of data within the range\n",
    "    fig.add_annotation(\n",
    "        text=f\"\"\"The amount of data within the bands is {round(pct_data_in_range * 100, 1)}%\\n\n",
    "              \"\"\",\n",
    "        xref=\"paper\", yref=\"paper\",\n",
    "        x=0, y=1,\n",
    "        showarrow=False,\n",
    "        font=dict(size=12),\n",
    "        align=\"left\",\n",
    "        xanchor='left',\n",
    "        yanchor='top'\n",
    "    )\n",
    "    \n",
    "    # Show the figure\n",
    "    fig.show()\n",
    "\n",
    "        # text=f\"\"\"The amount of data within the bands is {round(pct_data_in_range * 100, 1)}%\\n\n",
    "        # The mean value is {mean_value}\\n\n",
    "        # The upper bound is {plus_val}\\n\n",
    "        # The lower bound is {minus_val}\\n\n",
    "        #       \"\"\",\n"
   ]
  },
  {
   "cell_type": "code",
   "execution_count": null,
   "metadata": {},
   "outputs": [],
   "source": [
    "bounds = .1\n",
    "visualize_deviations(state_distro, bounds, nbins=20, title='Histogram of Mean Values by State')"
   ]
  },
  {
   "cell_type": "code",
   "execution_count": null,
   "metadata": {},
   "outputs": [],
   "source": [
    "bounds = .10\n",
    "visualize_deviations(state_distro, bounds, nbins=20, title='Histogram of Mean Values by State')"
   ]
  },
  {
   "cell_type": "code",
   "execution_count": null,
   "metadata": {},
   "outputs": [],
   "source": [
    "bounds = .15\n",
    "visualize_deviations(working, bounds, graph_col = 'value', nbins=50, title = 'all prices')"
   ]
  },
  {
   "cell_type": "code",
   "execution_count": null,
   "metadata": {},
   "outputs": [],
   "source": [
    "working[working['value'] == 15.99]"
   ]
  },
  {
   "cell_type": "code",
   "execution_count": null,
   "metadata": {},
   "outputs": [],
   "source": [
    "# bounds = .15\n",
    "# visualize_deviations(working[~working['state'].isin(['hi', 'ak'])], bounds, graph_col = 'value', nbins=100, title = 'all prices') "
   ]
  },
  {
   "cell_type": "code",
   "execution_count": null,
   "metadata": {},
   "outputs": [],
   "source": [
    "working[working['state'] == 'ms']['value'].describe()"
   ]
  },
  {
   "cell_type": "code",
   "execution_count": null,
   "metadata": {},
   "outputs": [],
   "source": [
    "state_distro.describe()"
   ]
  },
  {
   "cell_type": "code",
   "execution_count": null,
   "metadata": {},
   "outputs": [],
   "source": [
    "state_coli['Cost of Living Index'].describe()"
   ]
  },
  {
   "cell_type": "code",
   "execution_count": null,
   "metadata": {},
   "outputs": [],
   "source": [
    "city_coli['cost of living index'].describe()"
   ]
  },
  {
   "cell_type": "code",
   "execution_count": null,
   "metadata": {},
   "outputs": [],
   "source": [
    "item_distro"
   ]
  },
  {
   "cell_type": "code",
   "execution_count": null,
   "metadata": {},
   "outputs": [],
   "source": [
    "state_distro"
   ]
  },
  {
   "cell_type": "code",
   "execution_count": null,
   "metadata": {},
   "outputs": [],
   "source": [
    "working[working['value'] < 15]"
   ]
  },
  {
   "cell_type": "code",
   "execution_count": null,
   "metadata": {},
   "outputs": [],
   "source": []
  }
 ],
 "metadata": {
  "kernelspec": {
   "display_name": "myenv",
   "language": "python",
   "name": "python3"
  },
  "language_info": {
   "codemirror_mode": {
    "name": "ipython",
    "version": 3
   },
   "file_extension": ".py",
   "mimetype": "text/x-python",
   "name": "python",
   "nbconvert_exporter": "python",
   "pygments_lexer": "ipython3",
   "version": "3.12.2"
  }
 },
 "nbformat": 4,
 "nbformat_minor": 2
}
